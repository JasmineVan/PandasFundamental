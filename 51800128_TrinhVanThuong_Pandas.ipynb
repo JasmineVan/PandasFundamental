{
  "nbformat": 4,
  "nbformat_minor": 0,
  "metadata": {
    "colab": {
      "name": "51800128_TrinhVanThuong_Pandas.ipynb",
      "provenance": [],
      "collapsed_sections": [
        "uzHgLx3jIs7E",
        "OKDbJvBYJKa7",
        "uLQN8PqiJRdL",
        "eIL9ZCPvKGCT",
        "cAxHgFLRMmTt",
        "xcSWR24JN0AU",
        "jtlbpFd-N4Pj",
        "ReT7TZcobzAO",
        "DByspJSsVS68",
        "OF4S_6nfeBDs",
        "J9-85NxRfhZE",
        "ACFSSyXagRan"
      ],
      "toc_visible": true,
      "authorship_tag": "ABX9TyN6glU24Qp2jltKcoDAdePJ",
      "include_colab_link": true
    },
    "kernelspec": {
      "name": "python3",
      "display_name": "Python 3"
    },
    "language_info": {
      "name": "python"
    }
  },
  "cells": [
    {
      "cell_type": "markdown",
      "metadata": {
        "id": "view-in-github",
        "colab_type": "text"
      },
      "source": [
        "<a href=\"https://colab.research.google.com/github/JasmineVan/PandasFundamental/blob/main/51800128_TrinhVanThuong_Pandas.ipynb\" target=\"_parent\"><img src=\"https://colab.research.google.com/assets/colab-badge.svg\" alt=\"Open In Colab\"/></a>"
      ]
    },
    {
      "cell_type": "markdown",
      "source": [
        "#Giới thiệu chung về thư viện Pandas"
      ],
      "metadata": {
        "id": "uzHgLx3jIs7E"
      }
    },
    {
      "cell_type": "markdown",
      "source": [
        "Pandas là một thư viện Python cung cấp các cấu trúc dữ liệu nhanh, mạnh mẽ, linh hoạt và mang hàm ý. \n",
        "\n",
        "Tên thư viện được bắt nguồn từ panel data (bảng dữ liệu). Pandas được thiết kế để làm việc dễ dàng và trực quan với dữ liệu có cấu trúc (dạng bảng, đa chiều, có tiềm năng không đồng nhất) và dữ liệu chuỗi thời gian.\n",
        "\n",
        "Thư viện pandas trong python là một thư viện mã nguồn mở, hỗ trợ đắc lực trong thao tác dữ liệu. Đây cũng là bộ công cụ phân tích và xử lý dữ liệu mạnh mẽ của ngôn ngữ lập trình python. \n",
        "\n",
        "Thư viện này được sử dụng rộng rãi trong cả nghiên cứu lẫn phát triển các ứng dụng về khoa học dữ liệu. Thư viện này sử dụng một cấu trúc dữ liệu riêng là Dataframe. Pandas cung cấp rất nhiều chức năng xử lý và làm việc trên cấu trúc dữ liệu này. Chính sự linh hoạt và hiệu quả đã khiến cho pandas được sử dụng rộng rãi."
      ],
      "metadata": {
        "id": "b8bomeqQI0F8"
      }
    },
    {
      "cell_type": "markdown",
      "source": [
        "#Thư viên Pandas"
      ],
      "metadata": {
        "id": "OKDbJvBYJKa7"
      }
    },
    {
      "cell_type": "markdown",
      "source": [
        "##Cài đặt và sử dụng Pandas"
      ],
      "metadata": {
        "id": "uLQN8PqiJRdL"
      }
    },
    {
      "cell_type": "code",
      "execution_count": null,
      "metadata": {
        "id": "p6y6uPB5HK5W"
      },
      "outputs": [],
      "source": [
        "#pip install pandas"
      ]
    },
    {
      "cell_type": "code",
      "source": [
        "import pandas as pd\n",
        "print(pd.__version__)"
      ],
      "metadata": {
        "colab": {
          "base_uri": "https://localhost:8080/"
        },
        "id": "XG2luDUCJXxT",
        "outputId": "42bc95c4-9ad2-432e-c307-db7160101c42"
      },
      "execution_count": null,
      "outputs": [
        {
          "output_type": "stream",
          "name": "stdout",
          "text": [
            "1.3.5\n"
          ]
        }
      ]
    },
    {
      "cell_type": "markdown",
      "source": [
        "##Tạo dataframe (Create dataframe)"
      ],
      "metadata": {
        "id": "eIL9ZCPvKGCT"
      }
    },
    {
      "cell_type": "code",
      "source": [
        "#Tự tạo lập dữ liệu cho dataframe\n",
        "data = {\n",
        "  \"widths\": [160, 170, 155],\n",
        "  \"heights\": [50, 40, 45]\n",
        "}\n",
        "df = pd.DataFrame(data)\n",
        "print(df) "
      ],
      "metadata": {
        "colab": {
          "base_uri": "https://localhost:8080/"
        },
        "id": "yaqCpuIEKLOz",
        "outputId": "b7622427-d43f-46a5-d5f3-f32df8f40e29"
      },
      "execution_count": null,
      "outputs": [
        {
          "output_type": "stream",
          "name": "stdout",
          "text": [
            "   widths  heights\n",
            "0     160       50\n",
            "1     170       40\n",
            "2     155       45\n"
          ]
        }
      ]
    },
    {
      "cell_type": "code",
      "source": [
        "#Thay đổi tên index trong dataframe\n",
        "df = pd.DataFrame(data, index = [\"Obj 1\", \"Obj 2\", \"Obj 3\"])\n",
        "print(df) "
      ],
      "metadata": {
        "colab": {
          "base_uri": "https://localhost:8080/"
        },
        "id": "Sr3T_aQ_LvqV",
        "outputId": "7430b858-585a-46f9-f850-6e5aadd4de31"
      },
      "execution_count": null,
      "outputs": [
        {
          "output_type": "stream",
          "name": "stdout",
          "text": [
            "       widths  heights\n",
            "Obj 1     160       50\n",
            "Obj 2     170       40\n",
            "Obj 3     155       45\n"
          ]
        }
      ]
    },
    {
      "cell_type": "code",
      "source": [
        "# Gộp 2 dataframe bằng hàm append()\n",
        "df1 = pd.DataFrame({'widths': [100, 20], 'heights': [18, 55]})\n",
        "df2 = pd.DataFrame({'widths': [11, 1123, 333], 'heights': [13, 66, 89]})\n",
        "df = df1.append(df2, sort=True)\n",
        "print(df)"
      ],
      "metadata": {
        "colab": {
          "base_uri": "https://localhost:8080/"
        },
        "id": "bZerXK6ke_gY",
        "outputId": "eb465a9f-ac34-4261-88c5-7d67436c675b"
      },
      "execution_count": null,
      "outputs": [
        {
          "output_type": "stream",
          "name": "stdout",
          "text": [
            "   heights  widths\n",
            "0       18     100\n",
            "1       55      20\n",
            "0       13      11\n",
            "1       66    1123\n",
            "2       89     333\n"
          ]
        }
      ]
    },
    {
      "cell_type": "markdown",
      "source": [
        "##Tham chiếu trong dataframe"
      ],
      "metadata": {
        "id": "cB6Xp9eqLTSz"
      }
    },
    {
      "cell_type": "code",
      "source": [
        "#Hàm loc trả về giá trị trong dataframe\n",
        "print(df.loc[0])"
      ],
      "metadata": {
        "colab": {
          "base_uri": "https://localhost:8080/"
        },
        "id": "Gj_VoGlQK4ZF",
        "outputId": "e96ae797-a215-4311-f106-0cfa9d407b73"
      },
      "execution_count": null,
      "outputs": [
        {
          "output_type": "stream",
          "name": "stdout",
          "text": [
            "widths     160\n",
            "heights     50\n",
            "Name: 0, dtype: int64\n"
          ]
        }
      ]
    },
    {
      "cell_type": "code",
      "source": [
        "#Trả về 2 cột đầu tiên trong dataframe\n",
        "print(df.loc[[0, 1]])"
      ],
      "metadata": {
        "colab": {
          "base_uri": "https://localhost:8080/"
        },
        "id": "4XDdSQafLLGM",
        "outputId": "5f02943f-8796-468d-a804-94292bb0b6e4"
      },
      "execution_count": null,
      "outputs": [
        {
          "output_type": "stream",
          "name": "stdout",
          "text": [
            "   widths  heights\n",
            "0     160       50\n",
            "1     170       40\n"
          ]
        }
      ]
    },
    {
      "cell_type": "code",
      "source": [
        "#Lấy thông tin dataframe bằng cách truyền tên index vào loc\n",
        "print(df.loc[\"Obj 2\"])"
      ],
      "metadata": {
        "colab": {
          "base_uri": "https://localhost:8080/"
        },
        "id": "XahHyH41MHpU",
        "outputId": "680a293b-9485-4432-c5c0-ebcd015dc710"
      },
      "execution_count": null,
      "outputs": [
        {
          "output_type": "stream",
          "name": "stdout",
          "text": [
            "widths     170\n",
            "heights     40\n",
            "Name: Obj 2, dtype: int64\n"
          ]
        }
      ]
    },
    {
      "cell_type": "code",
      "source": [
        "#Hàm head(n) cho phép đọc n dòng đầu tiên trong dataframe\n",
        "df = pd.read_csv('computer.csv')\n",
        "print(df.head(10))"
      ],
      "metadata": {
        "colab": {
          "base_uri": "https://localhost:8080/"
        },
        "id": "csjqI_BUQaem",
        "outputId": "3f64fa83-7fda-45ca-f7be-05224d554f2b"
      },
      "execution_count": null,
      "outputs": [
        {
          "output_type": "stream",
          "name": "stdout",
          "text": [
            "      Age  Income Student Credit_rating  Buy\n",
            "0    30<=    high      no          fair   no\n",
            "1    30<=    high      no     excellent   no\n",
            "2  31..40    high      no          fair  yes\n",
            "3     40>  medium     yes          fair  yes\n",
            "4     40>     low     yes          fair  yes\n",
            "5     40>     low     yes     excellent   no\n",
            "6  31..40     low      no     excellent  yes\n",
            "7    30<=  medium      no          fair   no\n",
            "8    30<=     low     yes          fair  yes\n",
            "9     40>  medium     yes          fair  yes\n"
          ]
        }
      ]
    },
    {
      "cell_type": "code",
      "source": [
        "#Hàm head() nếu không truyền tham số vào sẽ mặc định trả về 5 dòng đầu tiên trong dataframe\n",
        "print(df.head())"
      ],
      "metadata": {
        "colab": {
          "base_uri": "https://localhost:8080/"
        },
        "id": "HKzPjwiPQpHc",
        "outputId": "5c0a422f-d8f9-44e9-ab01-259af71a1792"
      },
      "execution_count": null,
      "outputs": [
        {
          "output_type": "stream",
          "name": "stdout",
          "text": [
            "      Age  Income Student Credit_rating  Buy\n",
            "0    30<=    high      no          fair   no\n",
            "1    30<=    high      no     excellent   no\n",
            "2  31..40    high      no          fair  yes\n",
            "3     40>  medium     yes          fair  yes\n",
            "4     40>     low     yes          fair  yes\n"
          ]
        }
      ]
    },
    {
      "cell_type": "code",
      "source": [
        "#Tương tự cách thức hoạt đông của hàm Head()\n",
        "#Hàm tail(n) cho phép đọc n dòng cuối cùng trong dataframe\n",
        "df = pd.read_csv('computer.csv')\n",
        "print(df.tail(10))"
      ],
      "metadata": {
        "colab": {
          "base_uri": "https://localhost:8080/"
        },
        "id": "Lx_9lI0ZQzrs",
        "outputId": "0678352e-83fa-40e2-a7d4-a24751afd2c1"
      },
      "execution_count": null,
      "outputs": [
        {
          "output_type": "stream",
          "name": "stdout",
          "text": [
            "       Age  Income Student Credit_rating  Buy\n",
            "4      40>     low     yes          fair  yes\n",
            "5      40>     low     yes     excellent   no\n",
            "6   31..40     low      no     excellent  yes\n",
            "7     30<=  medium      no          fair   no\n",
            "8     30<=     low     yes          fair  yes\n",
            "9      40>  medium     yes          fair  yes\n",
            "10    30<=  medium     yes     excellent  yes\n",
            "11  31..40  medium      no     excellent  yes\n",
            "12  31..40    high     yes          fair  yes\n",
            "13     40>  medium      no     excellent   no\n"
          ]
        }
      ]
    },
    {
      "cell_type": "code",
      "source": [
        "#Hàm tail() nếu không truyền tham số vào sẽ mặc định trả về 5 dòng cuối cùng trong dataframe\n",
        "print(df.tail())"
      ],
      "metadata": {
        "colab": {
          "base_uri": "https://localhost:8080/"
        },
        "id": "may5TpdfQ-J1",
        "outputId": "80450ec7-ff92-4766-84d3-25641feb2b4a"
      },
      "execution_count": null,
      "outputs": [
        {
          "output_type": "stream",
          "name": "stdout",
          "text": [
            "       Age  Income Student Credit_rating  Buy\n",
            "9      40>  medium     yes          fair  yes\n",
            "10    30<=  medium     yes     excellent  yes\n",
            "11  31..40  medium      no     excellent  yes\n",
            "12  31..40    high     yes          fair  yes\n",
            "13     40>  medium      no     excellent   no\n"
          ]
        }
      ]
    },
    {
      "cell_type": "code",
      "source": [
        "#Lấy dữ liệu theo tên cột\n",
        "df['Age'].head()"
      ],
      "metadata": {
        "colab": {
          "base_uri": "https://localhost:8080/"
        },
        "id": "eF6hs-LzZFKU",
        "outputId": "3f4b405e-952a-422d-bf0e-316d53fecf21"
      },
      "execution_count": null,
      "outputs": [
        {
          "output_type": "execute_result",
          "data": {
            "text/plain": [
              "0      30<=\n",
              "1      30<=\n",
              "2    31..40\n",
              "3       40>\n",
              "4       40>\n",
              "Name: Age, dtype: object"
            ]
          },
          "metadata": {},
          "execution_count": 49
        }
      ]
    },
    {
      "cell_type": "code",
      "source": [
        "#Lấy dữ liệu từ nhiều cột bằng tên\n",
        "df[['Age', 'Income', 'Student']].head()"
      ],
      "metadata": {
        "colab": {
          "base_uri": "https://localhost:8080/",
          "height": 206
        },
        "id": "afukwByqZVyW",
        "outputId": "ae783907-5b51-48fe-c33e-61a33e40a11b"
      },
      "execution_count": null,
      "outputs": [
        {
          "output_type": "execute_result",
          "data": {
            "text/plain": [
              "      Age  Income Student\n",
              "0    30<=    high      no\n",
              "1    30<=    high      no\n",
              "2  31..40    high      no\n",
              "3     40>  medium     yes\n",
              "4     40>     low     yes"
            ],
            "text/html": [
              "\n",
              "  <div id=\"df-533d1753-598c-4493-a267-ddf0912410eb\">\n",
              "    <div class=\"colab-df-container\">\n",
              "      <div>\n",
              "<style scoped>\n",
              "    .dataframe tbody tr th:only-of-type {\n",
              "        vertical-align: middle;\n",
              "    }\n",
              "\n",
              "    .dataframe tbody tr th {\n",
              "        vertical-align: top;\n",
              "    }\n",
              "\n",
              "    .dataframe thead th {\n",
              "        text-align: right;\n",
              "    }\n",
              "</style>\n",
              "<table border=\"1\" class=\"dataframe\">\n",
              "  <thead>\n",
              "    <tr style=\"text-align: right;\">\n",
              "      <th></th>\n",
              "      <th>Age</th>\n",
              "      <th>Income</th>\n",
              "      <th>Student</th>\n",
              "    </tr>\n",
              "  </thead>\n",
              "  <tbody>\n",
              "    <tr>\n",
              "      <th>0</th>\n",
              "      <td>30&lt;=</td>\n",
              "      <td>high</td>\n",
              "      <td>no</td>\n",
              "    </tr>\n",
              "    <tr>\n",
              "      <th>1</th>\n",
              "      <td>30&lt;=</td>\n",
              "      <td>high</td>\n",
              "      <td>no</td>\n",
              "    </tr>\n",
              "    <tr>\n",
              "      <th>2</th>\n",
              "      <td>31..40</td>\n",
              "      <td>high</td>\n",
              "      <td>no</td>\n",
              "    </tr>\n",
              "    <tr>\n",
              "      <th>3</th>\n",
              "      <td>40&gt;</td>\n",
              "      <td>medium</td>\n",
              "      <td>yes</td>\n",
              "    </tr>\n",
              "    <tr>\n",
              "      <th>4</th>\n",
              "      <td>40&gt;</td>\n",
              "      <td>low</td>\n",
              "      <td>yes</td>\n",
              "    </tr>\n",
              "  </tbody>\n",
              "</table>\n",
              "</div>\n",
              "      <button class=\"colab-df-convert\" onclick=\"convertToInteractive('df-533d1753-598c-4493-a267-ddf0912410eb')\"\n",
              "              title=\"Convert this dataframe to an interactive table.\"\n",
              "              style=\"display:none;\">\n",
              "        \n",
              "  <svg xmlns=\"http://www.w3.org/2000/svg\" height=\"24px\"viewBox=\"0 0 24 24\"\n",
              "       width=\"24px\">\n",
              "    <path d=\"M0 0h24v24H0V0z\" fill=\"none\"/>\n",
              "    <path d=\"M18.56 5.44l.94 2.06.94-2.06 2.06-.94-2.06-.94-.94-2.06-.94 2.06-2.06.94zm-11 1L8.5 8.5l.94-2.06 2.06-.94-2.06-.94L8.5 2.5l-.94 2.06-2.06.94zm10 10l.94 2.06.94-2.06 2.06-.94-2.06-.94-.94-2.06-.94 2.06-2.06.94z\"/><path d=\"M17.41 7.96l-1.37-1.37c-.4-.4-.92-.59-1.43-.59-.52 0-1.04.2-1.43.59L10.3 9.45l-7.72 7.72c-.78.78-.78 2.05 0 2.83L4 21.41c.39.39.9.59 1.41.59.51 0 1.02-.2 1.41-.59l7.78-7.78 2.81-2.81c.8-.78.8-2.07 0-2.86zM5.41 20L4 18.59l7.72-7.72 1.47 1.35L5.41 20z\"/>\n",
              "  </svg>\n",
              "      </button>\n",
              "      \n",
              "  <style>\n",
              "    .colab-df-container {\n",
              "      display:flex;\n",
              "      flex-wrap:wrap;\n",
              "      gap: 12px;\n",
              "    }\n",
              "\n",
              "    .colab-df-convert {\n",
              "      background-color: #E8F0FE;\n",
              "      border: none;\n",
              "      border-radius: 50%;\n",
              "      cursor: pointer;\n",
              "      display: none;\n",
              "      fill: #1967D2;\n",
              "      height: 32px;\n",
              "      padding: 0 0 0 0;\n",
              "      width: 32px;\n",
              "    }\n",
              "\n",
              "    .colab-df-convert:hover {\n",
              "      background-color: #E2EBFA;\n",
              "      box-shadow: 0px 1px 2px rgba(60, 64, 67, 0.3), 0px 1px 3px 1px rgba(60, 64, 67, 0.15);\n",
              "      fill: #174EA6;\n",
              "    }\n",
              "\n",
              "    [theme=dark] .colab-df-convert {\n",
              "      background-color: #3B4455;\n",
              "      fill: #D2E3FC;\n",
              "    }\n",
              "\n",
              "    [theme=dark] .colab-df-convert:hover {\n",
              "      background-color: #434B5C;\n",
              "      box-shadow: 0px 1px 3px 1px rgba(0, 0, 0, 0.15);\n",
              "      filter: drop-shadow(0px 1px 2px rgba(0, 0, 0, 0.3));\n",
              "      fill: #FFFFFF;\n",
              "    }\n",
              "  </style>\n",
              "\n",
              "      <script>\n",
              "        const buttonEl =\n",
              "          document.querySelector('#df-533d1753-598c-4493-a267-ddf0912410eb button.colab-df-convert');\n",
              "        buttonEl.style.display =\n",
              "          google.colab.kernel.accessAllowed ? 'block' : 'none';\n",
              "\n",
              "        async function convertToInteractive(key) {\n",
              "          const element = document.querySelector('#df-533d1753-598c-4493-a267-ddf0912410eb');\n",
              "          const dataTable =\n",
              "            await google.colab.kernel.invokeFunction('convertToInteractive',\n",
              "                                                     [key], {});\n",
              "          if (!dataTable) return;\n",
              "\n",
              "          const docLinkHtml = 'Like what you see? Visit the ' +\n",
              "            '<a target=\"_blank\" href=https://colab.research.google.com/notebooks/data_table.ipynb>data table notebook</a>'\n",
              "            + ' to learn more about interactive tables.';\n",
              "          element.innerHTML = '';\n",
              "          dataTable['output_type'] = 'display_data';\n",
              "          await google.colab.output.renderOutput(dataTable, element);\n",
              "          const docLink = document.createElement('div');\n",
              "          docLink.innerHTML = docLinkHtml;\n",
              "          element.appendChild(docLink);\n",
              "        }\n",
              "      </script>\n",
              "    </div>\n",
              "  </div>\n",
              "  "
            ]
          },
          "metadata": {},
          "execution_count": 50
        }
      ]
    },
    {
      "cell_type": "code",
      "source": [
        "#Cách lấy 5 hàng đầu tiên\n",
        "df[0:5]"
      ],
      "metadata": {
        "colab": {
          "base_uri": "https://localhost:8080/",
          "height": 206
        },
        "id": "3ermF4_uZpTV",
        "outputId": "2ca58108-eb5e-4949-aee2-642a6ee79f3e"
      },
      "execution_count": null,
      "outputs": [
        {
          "output_type": "execute_result",
          "data": {
            "text/plain": [
              "      Age  Income Student Credit_rating  Buy\n",
              "0    30<=    high      no          fair   no\n",
              "1    30<=    high      no     excellent   no\n",
              "2  31..40    high      no          fair  yes\n",
              "3     40>  medium     yes          fair  yes\n",
              "4     40>     low     yes          fair  yes"
            ],
            "text/html": [
              "\n",
              "  <div id=\"df-119e969c-e363-4cb5-a82d-0fd8ceb8c14f\">\n",
              "    <div class=\"colab-df-container\">\n",
              "      <div>\n",
              "<style scoped>\n",
              "    .dataframe tbody tr th:only-of-type {\n",
              "        vertical-align: middle;\n",
              "    }\n",
              "\n",
              "    .dataframe tbody tr th {\n",
              "        vertical-align: top;\n",
              "    }\n",
              "\n",
              "    .dataframe thead th {\n",
              "        text-align: right;\n",
              "    }\n",
              "</style>\n",
              "<table border=\"1\" class=\"dataframe\">\n",
              "  <thead>\n",
              "    <tr style=\"text-align: right;\">\n",
              "      <th></th>\n",
              "      <th>Age</th>\n",
              "      <th>Income</th>\n",
              "      <th>Student</th>\n",
              "      <th>Credit_rating</th>\n",
              "      <th>Buy</th>\n",
              "    </tr>\n",
              "  </thead>\n",
              "  <tbody>\n",
              "    <tr>\n",
              "      <th>0</th>\n",
              "      <td>30&lt;=</td>\n",
              "      <td>high</td>\n",
              "      <td>no</td>\n",
              "      <td>fair</td>\n",
              "      <td>no</td>\n",
              "    </tr>\n",
              "    <tr>\n",
              "      <th>1</th>\n",
              "      <td>30&lt;=</td>\n",
              "      <td>high</td>\n",
              "      <td>no</td>\n",
              "      <td>excellent</td>\n",
              "      <td>no</td>\n",
              "    </tr>\n",
              "    <tr>\n",
              "      <th>2</th>\n",
              "      <td>31..40</td>\n",
              "      <td>high</td>\n",
              "      <td>no</td>\n",
              "      <td>fair</td>\n",
              "      <td>yes</td>\n",
              "    </tr>\n",
              "    <tr>\n",
              "      <th>3</th>\n",
              "      <td>40&gt;</td>\n",
              "      <td>medium</td>\n",
              "      <td>yes</td>\n",
              "      <td>fair</td>\n",
              "      <td>yes</td>\n",
              "    </tr>\n",
              "    <tr>\n",
              "      <th>4</th>\n",
              "      <td>40&gt;</td>\n",
              "      <td>low</td>\n",
              "      <td>yes</td>\n",
              "      <td>fair</td>\n",
              "      <td>yes</td>\n",
              "    </tr>\n",
              "  </tbody>\n",
              "</table>\n",
              "</div>\n",
              "      <button class=\"colab-df-convert\" onclick=\"convertToInteractive('df-119e969c-e363-4cb5-a82d-0fd8ceb8c14f')\"\n",
              "              title=\"Convert this dataframe to an interactive table.\"\n",
              "              style=\"display:none;\">\n",
              "        \n",
              "  <svg xmlns=\"http://www.w3.org/2000/svg\" height=\"24px\"viewBox=\"0 0 24 24\"\n",
              "       width=\"24px\">\n",
              "    <path d=\"M0 0h24v24H0V0z\" fill=\"none\"/>\n",
              "    <path d=\"M18.56 5.44l.94 2.06.94-2.06 2.06-.94-2.06-.94-.94-2.06-.94 2.06-2.06.94zm-11 1L8.5 8.5l.94-2.06 2.06-.94-2.06-.94L8.5 2.5l-.94 2.06-2.06.94zm10 10l.94 2.06.94-2.06 2.06-.94-2.06-.94-.94-2.06-.94 2.06-2.06.94z\"/><path d=\"M17.41 7.96l-1.37-1.37c-.4-.4-.92-.59-1.43-.59-.52 0-1.04.2-1.43.59L10.3 9.45l-7.72 7.72c-.78.78-.78 2.05 0 2.83L4 21.41c.39.39.9.59 1.41.59.51 0 1.02-.2 1.41-.59l7.78-7.78 2.81-2.81c.8-.78.8-2.07 0-2.86zM5.41 20L4 18.59l7.72-7.72 1.47 1.35L5.41 20z\"/>\n",
              "  </svg>\n",
              "      </button>\n",
              "      \n",
              "  <style>\n",
              "    .colab-df-container {\n",
              "      display:flex;\n",
              "      flex-wrap:wrap;\n",
              "      gap: 12px;\n",
              "    }\n",
              "\n",
              "    .colab-df-convert {\n",
              "      background-color: #E8F0FE;\n",
              "      border: none;\n",
              "      border-radius: 50%;\n",
              "      cursor: pointer;\n",
              "      display: none;\n",
              "      fill: #1967D2;\n",
              "      height: 32px;\n",
              "      padding: 0 0 0 0;\n",
              "      width: 32px;\n",
              "    }\n",
              "\n",
              "    .colab-df-convert:hover {\n",
              "      background-color: #E2EBFA;\n",
              "      box-shadow: 0px 1px 2px rgba(60, 64, 67, 0.3), 0px 1px 3px 1px rgba(60, 64, 67, 0.15);\n",
              "      fill: #174EA6;\n",
              "    }\n",
              "\n",
              "    [theme=dark] .colab-df-convert {\n",
              "      background-color: #3B4455;\n",
              "      fill: #D2E3FC;\n",
              "    }\n",
              "\n",
              "    [theme=dark] .colab-df-convert:hover {\n",
              "      background-color: #434B5C;\n",
              "      box-shadow: 0px 1px 3px 1px rgba(0, 0, 0, 0.15);\n",
              "      filter: drop-shadow(0px 1px 2px rgba(0, 0, 0, 0.3));\n",
              "      fill: #FFFFFF;\n",
              "    }\n",
              "  </style>\n",
              "\n",
              "      <script>\n",
              "        const buttonEl =\n",
              "          document.querySelector('#df-119e969c-e363-4cb5-a82d-0fd8ceb8c14f button.colab-df-convert');\n",
              "        buttonEl.style.display =\n",
              "          google.colab.kernel.accessAllowed ? 'block' : 'none';\n",
              "\n",
              "        async function convertToInteractive(key) {\n",
              "          const element = document.querySelector('#df-119e969c-e363-4cb5-a82d-0fd8ceb8c14f');\n",
              "          const dataTable =\n",
              "            await google.colab.kernel.invokeFunction('convertToInteractive',\n",
              "                                                     [key], {});\n",
              "          if (!dataTable) return;\n",
              "\n",
              "          const docLinkHtml = 'Like what you see? Visit the ' +\n",
              "            '<a target=\"_blank\" href=https://colab.research.google.com/notebooks/data_table.ipynb>data table notebook</a>'\n",
              "            + ' to learn more about interactive tables.';\n",
              "          element.innerHTML = '';\n",
              "          dataTable['output_type'] = 'display_data';\n",
              "          await google.colab.output.renderOutput(dataTable, element);\n",
              "          const docLink = document.createElement('div');\n",
              "          docLink.innerHTML = docLinkHtml;\n",
              "          element.appendChild(docLink);\n",
              "        }\n",
              "      </script>\n",
              "    </div>\n",
              "  </div>\n",
              "  "
            ]
          },
          "metadata": {},
          "execution_count": 51
        }
      ]
    },
    {
      "cell_type": "code",
      "source": [
        "#Có thể lấy dữ liệu kèm theo điều kiện\n",
        "#Lấy danh sách những ai là học sinh\n",
        "students = df[df['Student'] == 'yes']\n",
        "students[:5]"
      ],
      "metadata": {
        "colab": {
          "base_uri": "https://localhost:8080/",
          "height": 206
        },
        "id": "NpybktqgZ-ls",
        "outputId": "1c9fa7be-8c7b-4a74-b136-fb424c2b5717"
      },
      "execution_count": null,
      "outputs": [
        {
          "output_type": "execute_result",
          "data": {
            "text/plain": [
              "    Age  Income Student Credit_rating  Buy\n",
              "3   40>  medium     yes          fair  yes\n",
              "4   40>     low     yes          fair  yes\n",
              "5   40>     low     yes     excellent   no\n",
              "8  30<=     low     yes          fair  yes\n",
              "9   40>  medium     yes          fair  yes"
            ],
            "text/html": [
              "\n",
              "  <div id=\"df-ee96929b-3d7e-4aa9-b250-5c76f14df862\">\n",
              "    <div class=\"colab-df-container\">\n",
              "      <div>\n",
              "<style scoped>\n",
              "    .dataframe tbody tr th:only-of-type {\n",
              "        vertical-align: middle;\n",
              "    }\n",
              "\n",
              "    .dataframe tbody tr th {\n",
              "        vertical-align: top;\n",
              "    }\n",
              "\n",
              "    .dataframe thead th {\n",
              "        text-align: right;\n",
              "    }\n",
              "</style>\n",
              "<table border=\"1\" class=\"dataframe\">\n",
              "  <thead>\n",
              "    <tr style=\"text-align: right;\">\n",
              "      <th></th>\n",
              "      <th>Age</th>\n",
              "      <th>Income</th>\n",
              "      <th>Student</th>\n",
              "      <th>Credit_rating</th>\n",
              "      <th>Buy</th>\n",
              "    </tr>\n",
              "  </thead>\n",
              "  <tbody>\n",
              "    <tr>\n",
              "      <th>3</th>\n",
              "      <td>40&gt;</td>\n",
              "      <td>medium</td>\n",
              "      <td>yes</td>\n",
              "      <td>fair</td>\n",
              "      <td>yes</td>\n",
              "    </tr>\n",
              "    <tr>\n",
              "      <th>4</th>\n",
              "      <td>40&gt;</td>\n",
              "      <td>low</td>\n",
              "      <td>yes</td>\n",
              "      <td>fair</td>\n",
              "      <td>yes</td>\n",
              "    </tr>\n",
              "    <tr>\n",
              "      <th>5</th>\n",
              "      <td>40&gt;</td>\n",
              "      <td>low</td>\n",
              "      <td>yes</td>\n",
              "      <td>excellent</td>\n",
              "      <td>no</td>\n",
              "    </tr>\n",
              "    <tr>\n",
              "      <th>8</th>\n",
              "      <td>30&lt;=</td>\n",
              "      <td>low</td>\n",
              "      <td>yes</td>\n",
              "      <td>fair</td>\n",
              "      <td>yes</td>\n",
              "    </tr>\n",
              "    <tr>\n",
              "      <th>9</th>\n",
              "      <td>40&gt;</td>\n",
              "      <td>medium</td>\n",
              "      <td>yes</td>\n",
              "      <td>fair</td>\n",
              "      <td>yes</td>\n",
              "    </tr>\n",
              "  </tbody>\n",
              "</table>\n",
              "</div>\n",
              "      <button class=\"colab-df-convert\" onclick=\"convertToInteractive('df-ee96929b-3d7e-4aa9-b250-5c76f14df862')\"\n",
              "              title=\"Convert this dataframe to an interactive table.\"\n",
              "              style=\"display:none;\">\n",
              "        \n",
              "  <svg xmlns=\"http://www.w3.org/2000/svg\" height=\"24px\"viewBox=\"0 0 24 24\"\n",
              "       width=\"24px\">\n",
              "    <path d=\"M0 0h24v24H0V0z\" fill=\"none\"/>\n",
              "    <path d=\"M18.56 5.44l.94 2.06.94-2.06 2.06-.94-2.06-.94-.94-2.06-.94 2.06-2.06.94zm-11 1L8.5 8.5l.94-2.06 2.06-.94-2.06-.94L8.5 2.5l-.94 2.06-2.06.94zm10 10l.94 2.06.94-2.06 2.06-.94-2.06-.94-.94-2.06-.94 2.06-2.06.94z\"/><path d=\"M17.41 7.96l-1.37-1.37c-.4-.4-.92-.59-1.43-.59-.52 0-1.04.2-1.43.59L10.3 9.45l-7.72 7.72c-.78.78-.78 2.05 0 2.83L4 21.41c.39.39.9.59 1.41.59.51 0 1.02-.2 1.41-.59l7.78-7.78 2.81-2.81c.8-.78.8-2.07 0-2.86zM5.41 20L4 18.59l7.72-7.72 1.47 1.35L5.41 20z\"/>\n",
              "  </svg>\n",
              "      </button>\n",
              "      \n",
              "  <style>\n",
              "    .colab-df-container {\n",
              "      display:flex;\n",
              "      flex-wrap:wrap;\n",
              "      gap: 12px;\n",
              "    }\n",
              "\n",
              "    .colab-df-convert {\n",
              "      background-color: #E8F0FE;\n",
              "      border: none;\n",
              "      border-radius: 50%;\n",
              "      cursor: pointer;\n",
              "      display: none;\n",
              "      fill: #1967D2;\n",
              "      height: 32px;\n",
              "      padding: 0 0 0 0;\n",
              "      width: 32px;\n",
              "    }\n",
              "\n",
              "    .colab-df-convert:hover {\n",
              "      background-color: #E2EBFA;\n",
              "      box-shadow: 0px 1px 2px rgba(60, 64, 67, 0.3), 0px 1px 3px 1px rgba(60, 64, 67, 0.15);\n",
              "      fill: #174EA6;\n",
              "    }\n",
              "\n",
              "    [theme=dark] .colab-df-convert {\n",
              "      background-color: #3B4455;\n",
              "      fill: #D2E3FC;\n",
              "    }\n",
              "\n",
              "    [theme=dark] .colab-df-convert:hover {\n",
              "      background-color: #434B5C;\n",
              "      box-shadow: 0px 1px 3px 1px rgba(0, 0, 0, 0.15);\n",
              "      filter: drop-shadow(0px 1px 2px rgba(0, 0, 0, 0.3));\n",
              "      fill: #FFFFFF;\n",
              "    }\n",
              "  </style>\n",
              "\n",
              "      <script>\n",
              "        const buttonEl =\n",
              "          document.querySelector('#df-ee96929b-3d7e-4aa9-b250-5c76f14df862 button.colab-df-convert');\n",
              "        buttonEl.style.display =\n",
              "          google.colab.kernel.accessAllowed ? 'block' : 'none';\n",
              "\n",
              "        async function convertToInteractive(key) {\n",
              "          const element = document.querySelector('#df-ee96929b-3d7e-4aa9-b250-5c76f14df862');\n",
              "          const dataTable =\n",
              "            await google.colab.kernel.invokeFunction('convertToInteractive',\n",
              "                                                     [key], {});\n",
              "          if (!dataTable) return;\n",
              "\n",
              "          const docLinkHtml = 'Like what you see? Visit the ' +\n",
              "            '<a target=\"_blank\" href=https://colab.research.google.com/notebooks/data_table.ipynb>data table notebook</a>'\n",
              "            + ' to learn more about interactive tables.';\n",
              "          element.innerHTML = '';\n",
              "          dataTable['output_type'] = 'display_data';\n",
              "          await google.colab.output.renderOutput(dataTable, element);\n",
              "          const docLink = document.createElement('div');\n",
              "          docLink.innerHTML = docLinkHtml;\n",
              "          element.appendChild(docLink);\n",
              "        }\n",
              "      </script>\n",
              "    </div>\n",
              "  </div>\n",
              "  "
            ]
          },
          "metadata": {},
          "execution_count": 52
        }
      ]
    },
    {
      "cell_type": "code",
      "source": [
        "#Lấy danh sách những ai mua\n",
        "buy = df[df['Buy'] == 'yes']\n",
        "buy[:5]"
      ],
      "metadata": {
        "colab": {
          "base_uri": "https://localhost:8080/",
          "height": 206
        },
        "id": "gXjwQJ_vaj6_",
        "outputId": "a0162ff8-064d-4587-c798-8e9d18165f31"
      },
      "execution_count": null,
      "outputs": [
        {
          "output_type": "execute_result",
          "data": {
            "text/plain": [
              "      Age  Income Student Credit_rating  Buy\n",
              "2  31..40    high      no          fair  yes\n",
              "3     40>  medium     yes          fair  yes\n",
              "4     40>     low     yes          fair  yes\n",
              "6  31..40     low      no     excellent  yes\n",
              "8    30<=     low     yes          fair  yes"
            ],
            "text/html": [
              "\n",
              "  <div id=\"df-f072db74-0405-459f-8a3c-9fd4839d62a9\">\n",
              "    <div class=\"colab-df-container\">\n",
              "      <div>\n",
              "<style scoped>\n",
              "    .dataframe tbody tr th:only-of-type {\n",
              "        vertical-align: middle;\n",
              "    }\n",
              "\n",
              "    .dataframe tbody tr th {\n",
              "        vertical-align: top;\n",
              "    }\n",
              "\n",
              "    .dataframe thead th {\n",
              "        text-align: right;\n",
              "    }\n",
              "</style>\n",
              "<table border=\"1\" class=\"dataframe\">\n",
              "  <thead>\n",
              "    <tr style=\"text-align: right;\">\n",
              "      <th></th>\n",
              "      <th>Age</th>\n",
              "      <th>Income</th>\n",
              "      <th>Student</th>\n",
              "      <th>Credit_rating</th>\n",
              "      <th>Buy</th>\n",
              "    </tr>\n",
              "  </thead>\n",
              "  <tbody>\n",
              "    <tr>\n",
              "      <th>2</th>\n",
              "      <td>31..40</td>\n",
              "      <td>high</td>\n",
              "      <td>no</td>\n",
              "      <td>fair</td>\n",
              "      <td>yes</td>\n",
              "    </tr>\n",
              "    <tr>\n",
              "      <th>3</th>\n",
              "      <td>40&gt;</td>\n",
              "      <td>medium</td>\n",
              "      <td>yes</td>\n",
              "      <td>fair</td>\n",
              "      <td>yes</td>\n",
              "    </tr>\n",
              "    <tr>\n",
              "      <th>4</th>\n",
              "      <td>40&gt;</td>\n",
              "      <td>low</td>\n",
              "      <td>yes</td>\n",
              "      <td>fair</td>\n",
              "      <td>yes</td>\n",
              "    </tr>\n",
              "    <tr>\n",
              "      <th>6</th>\n",
              "      <td>31..40</td>\n",
              "      <td>low</td>\n",
              "      <td>no</td>\n",
              "      <td>excellent</td>\n",
              "      <td>yes</td>\n",
              "    </tr>\n",
              "    <tr>\n",
              "      <th>8</th>\n",
              "      <td>30&lt;=</td>\n",
              "      <td>low</td>\n",
              "      <td>yes</td>\n",
              "      <td>fair</td>\n",
              "      <td>yes</td>\n",
              "    </tr>\n",
              "  </tbody>\n",
              "</table>\n",
              "</div>\n",
              "      <button class=\"colab-df-convert\" onclick=\"convertToInteractive('df-f072db74-0405-459f-8a3c-9fd4839d62a9')\"\n",
              "              title=\"Convert this dataframe to an interactive table.\"\n",
              "              style=\"display:none;\">\n",
              "        \n",
              "  <svg xmlns=\"http://www.w3.org/2000/svg\" height=\"24px\"viewBox=\"0 0 24 24\"\n",
              "       width=\"24px\">\n",
              "    <path d=\"M0 0h24v24H0V0z\" fill=\"none\"/>\n",
              "    <path d=\"M18.56 5.44l.94 2.06.94-2.06 2.06-.94-2.06-.94-.94-2.06-.94 2.06-2.06.94zm-11 1L8.5 8.5l.94-2.06 2.06-.94-2.06-.94L8.5 2.5l-.94 2.06-2.06.94zm10 10l.94 2.06.94-2.06 2.06-.94-2.06-.94-.94-2.06-.94 2.06-2.06.94z\"/><path d=\"M17.41 7.96l-1.37-1.37c-.4-.4-.92-.59-1.43-.59-.52 0-1.04.2-1.43.59L10.3 9.45l-7.72 7.72c-.78.78-.78 2.05 0 2.83L4 21.41c.39.39.9.59 1.41.59.51 0 1.02-.2 1.41-.59l7.78-7.78 2.81-2.81c.8-.78.8-2.07 0-2.86zM5.41 20L4 18.59l7.72-7.72 1.47 1.35L5.41 20z\"/>\n",
              "  </svg>\n",
              "      </button>\n",
              "      \n",
              "  <style>\n",
              "    .colab-df-container {\n",
              "      display:flex;\n",
              "      flex-wrap:wrap;\n",
              "      gap: 12px;\n",
              "    }\n",
              "\n",
              "    .colab-df-convert {\n",
              "      background-color: #E8F0FE;\n",
              "      border: none;\n",
              "      border-radius: 50%;\n",
              "      cursor: pointer;\n",
              "      display: none;\n",
              "      fill: #1967D2;\n",
              "      height: 32px;\n",
              "      padding: 0 0 0 0;\n",
              "      width: 32px;\n",
              "    }\n",
              "\n",
              "    .colab-df-convert:hover {\n",
              "      background-color: #E2EBFA;\n",
              "      box-shadow: 0px 1px 2px rgba(60, 64, 67, 0.3), 0px 1px 3px 1px rgba(60, 64, 67, 0.15);\n",
              "      fill: #174EA6;\n",
              "    }\n",
              "\n",
              "    [theme=dark] .colab-df-convert {\n",
              "      background-color: #3B4455;\n",
              "      fill: #D2E3FC;\n",
              "    }\n",
              "\n",
              "    [theme=dark] .colab-df-convert:hover {\n",
              "      background-color: #434B5C;\n",
              "      box-shadow: 0px 1px 3px 1px rgba(0, 0, 0, 0.15);\n",
              "      filter: drop-shadow(0px 1px 2px rgba(0, 0, 0, 0.3));\n",
              "      fill: #FFFFFF;\n",
              "    }\n",
              "  </style>\n",
              "\n",
              "      <script>\n",
              "        const buttonEl =\n",
              "          document.querySelector('#df-f072db74-0405-459f-8a3c-9fd4839d62a9 button.colab-df-convert');\n",
              "        buttonEl.style.display =\n",
              "          google.colab.kernel.accessAllowed ? 'block' : 'none';\n",
              "\n",
              "        async function convertToInteractive(key) {\n",
              "          const element = document.querySelector('#df-f072db74-0405-459f-8a3c-9fd4839d62a9');\n",
              "          const dataTable =\n",
              "            await google.colab.kernel.invokeFunction('convertToInteractive',\n",
              "                                                     [key], {});\n",
              "          if (!dataTable) return;\n",
              "\n",
              "          const docLinkHtml = 'Like what you see? Visit the ' +\n",
              "            '<a target=\"_blank\" href=https://colab.research.google.com/notebooks/data_table.ipynb>data table notebook</a>'\n",
              "            + ' to learn more about interactive tables.';\n",
              "          element.innerHTML = '';\n",
              "          dataTable['output_type'] = 'display_data';\n",
              "          await google.colab.output.renderOutput(dataTable, element);\n",
              "          const docLink = document.createElement('div');\n",
              "          docLink.innerHTML = docLinkHtml;\n",
              "          element.appendChild(docLink);\n",
              "        }\n",
              "      </script>\n",
              "    </div>\n",
              "  </div>\n",
              "  "
            ]
          },
          "metadata": {},
          "execution_count": 54
        }
      ]
    },
    {
      "cell_type": "markdown",
      "source": [
        "##Đọc dữ liệu từ file (Read data from file)"
      ],
      "metadata": {
        "id": "cAxHgFLRMmTt"
      }
    },
    {
      "cell_type": "markdown",
      "source": [
        "###CSV"
      ],
      "metadata": {
        "id": "xcSWR24JN0AU"
      }
    },
    {
      "cell_type": "markdown",
      "source": [
        "Tệp CSV (Giá trị Phân tách bằng Dấu phẩy) là một loại tệp đặc biệt mà bạn có thể tạo hoặc chỉnh sửa trong Excel. \n",
        "\n",
        "Thay vì lưu trữ thông tin trong cột, tệp CSV lưu trữ thông tin được phân tách bởi dấu phẩy."
      ],
      "metadata": {
        "id": "gNuT4NErPVu0"
      }
    },
    {
      "cell_type": "code",
      "source": [
        "#Đọc dữ liệu từ file .csv\n",
        "#Dùng hàm to_string() để in ra tất cả dữ liệu trong dataframe\n",
        "df = pd.read_csv('computer.csv')\n",
        "print(df.to_string()) "
      ],
      "metadata": {
        "colab": {
          "base_uri": "https://localhost:8080/"
        },
        "id": "lfg0cbM3Mux9",
        "outputId": "f467a916-9354-4f02-9f87-00f0cf17afb5"
      },
      "execution_count": null,
      "outputs": [
        {
          "output_type": "stream",
          "name": "stdout",
          "text": [
            "       Age  Income Student Credit_rating  Buy\n",
            "0     30<=    high      no          fair   no\n",
            "1     30<=    high      no     excellent   no\n",
            "2   31..40    high      no          fair  yes\n",
            "3      40>  medium     yes          fair  yes\n",
            "4      40>     low     yes          fair  yes\n",
            "5      40>     low     yes     excellent   no\n",
            "6   31..40     low      no     excellent  yes\n",
            "7     30<=  medium      no          fair   no\n",
            "8     30<=     low     yes          fair  yes\n",
            "9      40>  medium     yes          fair  yes\n",
            "10    30<=  medium     yes     excellent  yes\n",
            "11  31..40  medium      no     excellent  yes\n",
            "12  31..40    high     yes          fair  yes\n",
            "13     40>  medium      no     excellent   no\n"
          ]
        }
      ]
    },
    {
      "cell_type": "code",
      "source": [
        "#In ra tất cả dữ liệu trong dataframe trực tiếp mà không dùng hàm to_string()\n",
        "print(df)"
      ],
      "metadata": {
        "colab": {
          "base_uri": "https://localhost:8080/"
        },
        "id": "3-eZB0HeNPZT",
        "outputId": "d8e35621-0496-4ee8-9f41-6f7e3f94f181"
      },
      "execution_count": null,
      "outputs": [
        {
          "output_type": "stream",
          "name": "stdout",
          "text": [
            "       Age  Income Student Credit_rating  Buy\n",
            "0     30<=    high      no          fair   no\n",
            "1     30<=    high      no     excellent   no\n",
            "2   31..40    high      no          fair  yes\n",
            "3      40>  medium     yes          fair  yes\n",
            "4      40>     low     yes          fair  yes\n",
            "5      40>     low     yes     excellent   no\n",
            "6   31..40     low      no     excellent  yes\n",
            "7     30<=  medium      no          fair   no\n",
            "8     30<=     low     yes          fair  yes\n",
            "9      40>  medium     yes          fair  yes\n",
            "10    30<=  medium     yes     excellent  yes\n",
            "11  31..40  medium      no     excellent  yes\n",
            "12  31..40    high     yes          fair  yes\n",
            "13     40>  medium      no     excellent   no\n"
          ]
        }
      ]
    },
    {
      "cell_type": "markdown",
      "source": [
        "###JSON"
      ],
      "metadata": {
        "id": "jtlbpFd-N4Pj"
      }
    },
    {
      "cell_type": "markdown",
      "source": [
        "JavaScript Object Notation (thường được viết tắt là JSON) là một kiểu dữ liệu mở trong JavaScript. \n",
        "\n",
        "Kiểu dữ liệu này bao gồm chủ yếu là text, có thể đọc được theo dạng cặp \"thuộc tính - giá trị\". Về cấu trúc, nó mô tả một vật thể bằng cách bọc những vật thể con trong vật thể lớn hơn trong dấu ngoặc nhọn ({ })."
      ],
      "metadata": {
        "id": "NwK5K1-wPfSc"
      }
    },
    {
      "cell_type": "code",
      "source": [
        "#Đọc dữ liệu từ file .json\n",
        "df = pd.read_json('data.json')\n",
        "print(df) "
      ],
      "metadata": {
        "colab": {
          "base_uri": "https://localhost:8080/"
        },
        "id": "oQvHHhYgNdMb",
        "outputId": "d2df759c-0c2b-4ce7-f64a-e9d854a73aa6"
      },
      "execution_count": null,
      "outputs": [
        {
          "output_type": "stream",
          "name": "stdout",
          "text": [
            "     Duration  Pulse  Maxpulse  Calories\n",
            "0          60    110       130     409.1\n",
            "1          60    117       145     479.0\n",
            "2          60    103       135     340.0\n",
            "3          45    109       175     282.4\n",
            "4          45    117       148     406.0\n",
            "..        ...    ...       ...       ...\n",
            "164        60    105       140     290.8\n",
            "165        60    110       145     300.4\n",
            "166        60    115       145     310.2\n",
            "167        75    120       150     320.4\n",
            "168        75    125       150     330.4\n",
            "\n",
            "[169 rows x 4 columns]\n"
          ]
        }
      ]
    },
    {
      "cell_type": "code",
      "source": [
        "#Về cơ bản thì dữ liệu từ file .json giống như kiểu dữ liệu dictionary trong Python\n",
        "data = {\n",
        "  \"Duration\":{\n",
        "    \"0\":60,\n",
        "    \"1\":60,\n",
        "    \"2\":60,\n",
        "    \"3\":45,\n",
        "    \"4\":45,\n",
        "    \"5\":60\n",
        "  },\n",
        "  \"Pulse\":{\n",
        "    \"0\":110,\n",
        "    \"1\":117,\n",
        "    \"2\":103,\n",
        "    \"3\":109,\n",
        "    \"4\":117,\n",
        "    \"5\":102\n",
        "  },\n",
        "  \"Maxpulse\":{\n",
        "    \"0\":130,\n",
        "    \"1\":145,\n",
        "    \"2\":135,\n",
        "    \"3\":175,\n",
        "    \"4\":148,\n",
        "    \"5\":127\n",
        "  },\n",
        "  \"Calories\":{\n",
        "    \"0\":409,\n",
        "    \"1\":479,\n",
        "    \"2\":340,\n",
        "    \"3\":282,\n",
        "    \"4\":406,\n",
        "    \"5\":300\n",
        "  }\n",
        "}\n",
        "\n",
        "df = pd.DataFrame(data)\n",
        "print(df) "
      ],
      "metadata": {
        "colab": {
          "base_uri": "https://localhost:8080/"
        },
        "id": "7Ei47D5_PwRs",
        "outputId": "5476d85b-ab11-4508-88ac-2806fb18215c"
      },
      "execution_count": null,
      "outputs": [
        {
          "output_type": "stream",
          "name": "stdout",
          "text": [
            "   Duration  Pulse  Maxpulse  Calories\n",
            "0        60    110       130       409\n",
            "1        60    117       145       479\n",
            "2        60    103       135       340\n",
            "3        45    109       175       282\n",
            "4        45    117       148       406\n",
            "5        60    102       127       300\n"
          ]
        }
      ]
    },
    {
      "cell_type": "markdown",
      "source": [
        "##Phân tích dữ liệu (Analyze)"
      ],
      "metadata": {
        "id": "J7eXP0NdQLum"
      }
    },
    {
      "cell_type": "code",
      "source": [
        "#Hàm info() dùng để xem thông tin của dataframe: Số dòng, số cột, tên của từng dòng với kiểu dữ liệu\n",
        "df = pd.read_csv('computer.csv')\n",
        "print(df.info()) "
      ],
      "metadata": {
        "colab": {
          "base_uri": "https://localhost:8080/"
        },
        "id": "CphgMQvYQO2s",
        "outputId": "b27ba514-64b4-4818-e8d7-93f1aa6293f0"
      },
      "execution_count": null,
      "outputs": [
        {
          "output_type": "stream",
          "name": "stdout",
          "text": [
            "<class 'pandas.core.frame.DataFrame'>\n",
            "RangeIndex: 14 entries, 0 to 13\n",
            "Data columns (total 5 columns):\n",
            " #   Column         Non-Null Count  Dtype \n",
            "---  ------         --------------  ----- \n",
            " 0   Age            14 non-null     object\n",
            " 1   Income         14 non-null     object\n",
            " 2   Student        14 non-null     object\n",
            " 3   Credit_rating  14 non-null     object\n",
            " 4   Buy            14 non-null     object\n",
            "dtypes: object(5)\n",
            "memory usage: 688.0+ bytes\n",
            "None\n"
          ]
        }
      ]
    },
    {
      "cell_type": "code",
      "source": [
        "#Thuộc tính shape của dataframe (số hàng, số cột)\n",
        "df.shape"
      ],
      "metadata": {
        "colab": {
          "base_uri": "https://localhost:8080/"
        },
        "id": "PblJdF4mYcFd",
        "outputId": "80077d6c-cff4-4fac-b795-520329ff128b"
      },
      "execution_count": null,
      "outputs": [
        {
          "output_type": "execute_result",
          "data": {
            "text/plain": [
              "(14, 5)"
            ]
          },
          "metadata": {},
          "execution_count": 79
        }
      ]
    },
    {
      "cell_type": "code",
      "source": [
        "#Hàm describe() hiện các thống kê cơ bản từ dữ liệu\n",
        "df.describe()"
      ],
      "metadata": {
        "colab": {
          "base_uri": "https://localhost:8080/",
          "height": 174
        },
        "id": "0l38DHt4dsEH",
        "outputId": "3cedd6a8-d5b3-42fe-dd74-f1eeee284995"
      },
      "execution_count": null,
      "outputs": [
        {
          "output_type": "execute_result",
          "data": {
            "text/plain": [
              "         Age  Income Student Credit_rating  Buy\n",
              "count     14      14      14            14   14\n",
              "unique     3       3       2             2    2\n",
              "top     30<=  medium      no          fair  yes\n",
              "freq       5       6       7             8    9"
            ],
            "text/html": [
              "\n",
              "  <div id=\"df-8f738942-549d-400d-985e-d7bee871b0ac\">\n",
              "    <div class=\"colab-df-container\">\n",
              "      <div>\n",
              "<style scoped>\n",
              "    .dataframe tbody tr th:only-of-type {\n",
              "        vertical-align: middle;\n",
              "    }\n",
              "\n",
              "    .dataframe tbody tr th {\n",
              "        vertical-align: top;\n",
              "    }\n",
              "\n",
              "    .dataframe thead th {\n",
              "        text-align: right;\n",
              "    }\n",
              "</style>\n",
              "<table border=\"1\" class=\"dataframe\">\n",
              "  <thead>\n",
              "    <tr style=\"text-align: right;\">\n",
              "      <th></th>\n",
              "      <th>Age</th>\n",
              "      <th>Income</th>\n",
              "      <th>Student</th>\n",
              "      <th>Credit_rating</th>\n",
              "      <th>Buy</th>\n",
              "    </tr>\n",
              "  </thead>\n",
              "  <tbody>\n",
              "    <tr>\n",
              "      <th>count</th>\n",
              "      <td>14</td>\n",
              "      <td>14</td>\n",
              "      <td>14</td>\n",
              "      <td>14</td>\n",
              "      <td>14</td>\n",
              "    </tr>\n",
              "    <tr>\n",
              "      <th>unique</th>\n",
              "      <td>3</td>\n",
              "      <td>3</td>\n",
              "      <td>2</td>\n",
              "      <td>2</td>\n",
              "      <td>2</td>\n",
              "    </tr>\n",
              "    <tr>\n",
              "      <th>top</th>\n",
              "      <td>30&lt;=</td>\n",
              "      <td>medium</td>\n",
              "      <td>no</td>\n",
              "      <td>fair</td>\n",
              "      <td>yes</td>\n",
              "    </tr>\n",
              "    <tr>\n",
              "      <th>freq</th>\n",
              "      <td>5</td>\n",
              "      <td>6</td>\n",
              "      <td>7</td>\n",
              "      <td>8</td>\n",
              "      <td>9</td>\n",
              "    </tr>\n",
              "  </tbody>\n",
              "</table>\n",
              "</div>\n",
              "      <button class=\"colab-df-convert\" onclick=\"convertToInteractive('df-8f738942-549d-400d-985e-d7bee871b0ac')\"\n",
              "              title=\"Convert this dataframe to an interactive table.\"\n",
              "              style=\"display:none;\">\n",
              "        \n",
              "  <svg xmlns=\"http://www.w3.org/2000/svg\" height=\"24px\"viewBox=\"0 0 24 24\"\n",
              "       width=\"24px\">\n",
              "    <path d=\"M0 0h24v24H0V0z\" fill=\"none\"/>\n",
              "    <path d=\"M18.56 5.44l.94 2.06.94-2.06 2.06-.94-2.06-.94-.94-2.06-.94 2.06-2.06.94zm-11 1L8.5 8.5l.94-2.06 2.06-.94-2.06-.94L8.5 2.5l-.94 2.06-2.06.94zm10 10l.94 2.06.94-2.06 2.06-.94-2.06-.94-.94-2.06-.94 2.06-2.06.94z\"/><path d=\"M17.41 7.96l-1.37-1.37c-.4-.4-.92-.59-1.43-.59-.52 0-1.04.2-1.43.59L10.3 9.45l-7.72 7.72c-.78.78-.78 2.05 0 2.83L4 21.41c.39.39.9.59 1.41.59.51 0 1.02-.2 1.41-.59l7.78-7.78 2.81-2.81c.8-.78.8-2.07 0-2.86zM5.41 20L4 18.59l7.72-7.72 1.47 1.35L5.41 20z\"/>\n",
              "  </svg>\n",
              "      </button>\n",
              "      \n",
              "  <style>\n",
              "    .colab-df-container {\n",
              "      display:flex;\n",
              "      flex-wrap:wrap;\n",
              "      gap: 12px;\n",
              "    }\n",
              "\n",
              "    .colab-df-convert {\n",
              "      background-color: #E8F0FE;\n",
              "      border: none;\n",
              "      border-radius: 50%;\n",
              "      cursor: pointer;\n",
              "      display: none;\n",
              "      fill: #1967D2;\n",
              "      height: 32px;\n",
              "      padding: 0 0 0 0;\n",
              "      width: 32px;\n",
              "    }\n",
              "\n",
              "    .colab-df-convert:hover {\n",
              "      background-color: #E2EBFA;\n",
              "      box-shadow: 0px 1px 2px rgba(60, 64, 67, 0.3), 0px 1px 3px 1px rgba(60, 64, 67, 0.15);\n",
              "      fill: #174EA6;\n",
              "    }\n",
              "\n",
              "    [theme=dark] .colab-df-convert {\n",
              "      background-color: #3B4455;\n",
              "      fill: #D2E3FC;\n",
              "    }\n",
              "\n",
              "    [theme=dark] .colab-df-convert:hover {\n",
              "      background-color: #434B5C;\n",
              "      box-shadow: 0px 1px 3px 1px rgba(0, 0, 0, 0.15);\n",
              "      filter: drop-shadow(0px 1px 2px rgba(0, 0, 0, 0.3));\n",
              "      fill: #FFFFFF;\n",
              "    }\n",
              "  </style>\n",
              "\n",
              "      <script>\n",
              "        const buttonEl =\n",
              "          document.querySelector('#df-8f738942-549d-400d-985e-d7bee871b0ac button.colab-df-convert');\n",
              "        buttonEl.style.display =\n",
              "          google.colab.kernel.accessAllowed ? 'block' : 'none';\n",
              "\n",
              "        async function convertToInteractive(key) {\n",
              "          const element = document.querySelector('#df-8f738942-549d-400d-985e-d7bee871b0ac');\n",
              "          const dataTable =\n",
              "            await google.colab.kernel.invokeFunction('convertToInteractive',\n",
              "                                                     [key], {});\n",
              "          if (!dataTable) return;\n",
              "\n",
              "          const docLinkHtml = 'Like what you see? Visit the ' +\n",
              "            '<a target=\"_blank\" href=https://colab.research.google.com/notebooks/data_table.ipynb>data table notebook</a>'\n",
              "            + ' to learn more about interactive tables.';\n",
              "          element.innerHTML = '';\n",
              "          dataTable['output_type'] = 'display_data';\n",
              "          await google.colab.output.renderOutput(dataTable, element);\n",
              "          const docLink = document.createElement('div');\n",
              "          docLink.innerHTML = docLinkHtml;\n",
              "          element.appendChild(docLink);\n",
              "        }\n",
              "      </script>\n",
              "    </div>\n",
              "  </div>\n",
              "  "
            ]
          },
          "metadata": {},
          "execution_count": 80
        }
      ]
    },
    {
      "cell_type": "code",
      "source": [
        "#Hiển thị tên của các cột trong dataframe\n",
        "print(list(df.columns))"
      ],
      "metadata": {
        "colab": {
          "base_uri": "https://localhost:8080/"
        },
        "id": "G2ieuhCbhuDd",
        "outputId": "7929292a-594d-4001-ee4a-876c6d8efd89"
      },
      "execution_count": null,
      "outputs": [
        {
          "output_type": "stream",
          "name": "stdout",
          "text": [
            "['Age', 'Income', 'Student', 'Credit_rating', 'Buy']\n"
          ]
        }
      ]
    },
    {
      "cell_type": "code",
      "source": [
        "#Hàm value_counts() có tác dụng thống kê các giá trị của cột và số lần xuất hiện\n",
        "Age = df['Age'].value_counts()\n",
        "print(Age)\n",
        "Age.plot.bar()"
      ],
      "metadata": {
        "colab": {
          "base_uri": "https://localhost:8080/",
          "height": 374
        },
        "id": "MPHKQ7uVifCt",
        "outputId": "fbdcf8a1-0eaf-4f8b-e51d-6b0ea3a8df1a"
      },
      "execution_count": null,
      "outputs": [
        {
          "output_type": "stream",
          "name": "stdout",
          "text": [
            "30<=      5\n",
            "40>       5\n",
            "31..40    4\n",
            "Name: Age, dtype: int64\n"
          ]
        },
        {
          "output_type": "execute_result",
          "data": {
            "text/plain": [
              "<matplotlib.axes._subplots.AxesSubplot at 0x7f500a94ba90>"
            ]
          },
          "metadata": {},
          "execution_count": 86
        },
        {
          "output_type": "display_data",
          "data": {
            "text/plain": [
              "<Figure size 432x288 with 1 Axes>"
            ],
            "image/png": "[encoded data removed]"
          },
          "metadata": {
            "needs_background": "light"
          }
        }
      ]
    },
    {
      "cell_type": "code",
      "source": [
        "Income = df['Income'].value_counts()\n",
        "print(Income)\n",
        "Income.plot.bar()"
      ],
      "metadata": {
        "colab": {
          "base_uri": "https://localhost:8080/",
          "height": 382
        },
        "id": "F8asY48eiv6-",
        "outputId": "8a0f6725-c8c0-4e22-f6f6-f0e05c81eed5"
      },
      "execution_count": null,
      "outputs": [
        {
          "output_type": "stream",
          "name": "stdout",
          "text": [
            "medium    6\n",
            "high      4\n",
            "low       4\n",
            "Name: Income, dtype: int64\n"
          ]
        },
        {
          "output_type": "execute_result",
          "data": {
            "text/plain": [
              "<matplotlib.axes._subplots.AxesSubplot at 0x7f500a8a0110>"
            ]
          },
          "metadata": {},
          "execution_count": 87
        },
        {
          "output_type": "display_data",
          "data": {
            "text/plain": [
              "<Figure size 432x288 with 1 Axes>"
            ],
            "image/png": "[encoded data removed]"
          },
          "metadata": {
            "needs_background": "light"
          }
        }
      ]
    },
    {
      "cell_type": "markdown",
      "source": [
        "##Xử lý dữ liệu trong dataframe (Data processing)"
      ],
      "metadata": {
        "id": "60kt5uzuRhz0"
      }
    },
    {
      "cell_type": "markdown",
      "source": [
        "###Thêm, xóa, sửa dữ liệu"
      ],
      "metadata": {
        "id": "ReT7TZcobzAO"
      }
    },
    {
      "cell_type": "code",
      "source": [
        "df = pd.read_csv('computer.csv')\n",
        "print(df)"
      ],
      "metadata": {
        "colab": {
          "base_uri": "https://localhost:8080/"
        },
        "id": "q_ae13omb1k-",
        "outputId": "b315c165-fd73-4b69-fa7f-57529633fb54"
      },
      "execution_count": null,
      "outputs": [
        {
          "output_type": "stream",
          "name": "stdout",
          "text": [
            "       Age  Income Student Credit_rating  Buy\n",
            "0     30<=    high      no          fair   no\n",
            "1     30<=    high      no     excellent   no\n",
            "2   31..40    high      no          fair  yes\n",
            "3      40>  medium     yes          fair  yes\n",
            "4      40>     low     yes          fair  yes\n",
            "5      40>     low     yes     excellent   no\n",
            "6   31..40     low      no     excellent  yes\n",
            "7     30<=  medium      no          fair   no\n",
            "8     30<=     low     yes          fair  yes\n",
            "9      40>  medium     yes          fair  yes\n",
            "10    30<=  medium     yes     excellent  yes\n",
            "11  31..40  medium      no     excellent  yes\n",
            "12  31..40    high     yes          fair  yes\n",
            "13     40>  medium      no     excellent   no\n"
          ]
        }
      ]
    },
    {
      "cell_type": "code",
      "source": [
        "#Thêm 1 cột với giá trị rỗng\n",
        "df['new_column'] = None\n",
        "print(df)"
      ],
      "metadata": {
        "colab": {
          "base_uri": "https://localhost:8080/"
        },
        "id": "WfkDgYwHcLfN",
        "outputId": "4c2f5ebc-3770-486f-8696-440936a30b8d"
      },
      "execution_count": null,
      "outputs": [
        {
          "output_type": "stream",
          "name": "stdout",
          "text": [
            "       Age  Income Student Credit_rating  Buy new_column\n",
            "0     30<=    high      no          fair   no       None\n",
            "1     30<=    high      no     excellent   no       None\n",
            "2   31..40    high      no          fair  yes       None\n",
            "3      40>  medium     yes          fair  yes       None\n",
            "4      40>     low     yes          fair  yes       None\n",
            "5      40>     low     yes     excellent   no       None\n",
            "6   31..40     low      no     excellent  yes       None\n",
            "7     30<=  medium      no          fair   no       None\n",
            "8     30<=     low     yes          fair  yes       None\n",
            "9      40>  medium     yes          fair  yes       None\n",
            "10    30<=  medium     yes     excellent  yes       None\n",
            "11  31..40  medium      no     excellent  yes       None\n",
            "12  31..40    high     yes          fair  yes       None\n",
            "13     40>  medium      no     excellent   no       None\n"
          ]
        }
      ]
    },
    {
      "cell_type": "code",
      "source": [
        "#Thêm 1 cột với giá trị dựa vào các cột đã có\n",
        "df['new_column_2'] = df['Student'] == \"yes\"\n",
        "print(df)"
      ],
      "metadata": {
        "colab": {
          "base_uri": "https://localhost:8080/"
        },
        "id": "SrYoz8w-ccJd",
        "outputId": "0b7eb8e9-6b29-4b7b-cb7d-c1e9f09d5336"
      },
      "execution_count": null,
      "outputs": [
        {
          "output_type": "stream",
          "name": "stdout",
          "text": [
            "       Age  Income Student Credit_rating  Buy new_column  new_column_2\n",
            "0     30<=    high      no          fair   no       None         False\n",
            "1     30<=    high      no     excellent   no       None         False\n",
            "2   31..40    high      no          fair  yes       None         False\n",
            "3      40>  medium     yes          fair  yes       None          True\n",
            "4      40>     low     yes          fair  yes       None          True\n",
            "5      40>     low     yes     excellent   no       None          True\n",
            "6   31..40     low      no     excellent  yes       None         False\n",
            "7     30<=  medium      no          fair   no       None         False\n",
            "8     30<=     low     yes          fair  yes       None          True\n",
            "9      40>  medium     yes          fair  yes       None          True\n",
            "10    30<=  medium     yes     excellent  yes       None          True\n",
            "11  31..40  medium      no     excellent  yes       None         False\n",
            "12  31..40    high     yes          fair  yes       None          True\n",
            "13     40>  medium      no     excellent   no       None         False\n"
          ]
        }
      ]
    },
    {
      "cell_type": "code",
      "source": [
        "#Xóa 1 cột theo tên cột\n",
        "df.drop('Buy', axis=1)\n",
        "print(df)"
      ],
      "metadata": {
        "colab": {
          "base_uri": "https://localhost:8080/"
        },
        "id": "ZDQGX8Drc_Om",
        "outputId": "3b74ce52-f305-4acf-d87b-c564df914903"
      },
      "execution_count": null,
      "outputs": [
        {
          "output_type": "stream",
          "name": "stdout",
          "text": [
            "       Age  Income Student Credit_rating  Buy new_column  new_column_2\n",
            "0     30<=    high      no          fair   no       None         False\n",
            "1     30<=    high      no     excellent   no       None         False\n",
            "2   31..40    high      no          fair  yes       None         False\n",
            "3      40>  medium     yes          fair  yes       None          True\n",
            "4      40>     low     yes          fair  yes       None          True\n",
            "5      40>     low     yes     excellent   no       None          True\n",
            "6   31..40     low      no     excellent  yes       None         False\n",
            "7     30<=  medium      no          fair   no       None         False\n",
            "8     30<=     low     yes          fair  yes       None          True\n",
            "9      40>  medium     yes          fair  yes       None          True\n",
            "10    30<=  medium     yes     excellent  yes       None          True\n",
            "11  31..40  medium      no     excellent  yes       None         False\n",
            "12  31..40    high     yes          fair  yes       None          True\n",
            "13     40>  medium      no     excellent   no       None         False\n"
          ]
        }
      ]
    },
    {
      "cell_type": "markdown",
      "source": [
        "###Giá trị (Value)"
      ],
      "metadata": {
        "id": "kkzSm6g8VPXE"
      }
    },
    {
      "cell_type": "code",
      "source": [
        "#Data trước khi được xử lý vẫn còn tồn tại nhiều cell trống NaN với giá trị không xác định\n",
        "df = pd.read_csv('data_with_empty_cells.csv')\n",
        "print(df)"
      ],
      "metadata": {
        "colab": {
          "base_uri": "https://localhost:8080/"
        },
        "id": "yZzFBLucSCaU",
        "outputId": "13fdd53f-f428-4524-c302-d4055a201b1a"
      },
      "execution_count": null,
      "outputs": [
        {
          "output_type": "stream",
          "name": "stdout",
          "text": [
            "    Duration          Date  Pulse  Maxpulse  Calories\n",
            "0         60  '2020/12/01'    110       130     409.1\n",
            "1         60  '2020/12/02'    117       145     479.0\n",
            "2         60  '2020/12/03'    103       135     340.0\n",
            "3         45  '2020/12/04'    109       175     282.4\n",
            "4         45  '2020/12/05'    117       148     406.0\n",
            "5         60  '2020/12/06'    102       127     300.0\n",
            "6         60  '2020/12/07'    110       136     374.0\n",
            "7        450  '2020/12/08'    104       134     253.3\n",
            "8         30  '2020/12/09'    109       133     195.1\n",
            "9         60  '2020/12/10'     98       124     269.0\n",
            "10        60  '2020/12/11'    103       147     329.3\n",
            "11        60  '2020/12/12'    100       120     250.7\n",
            "12        60  '2020/12/12'    100       120     250.7\n",
            "13        60  '2020/12/13'    106       128     345.3\n",
            "14        60  '2020/12/14'    104       132     379.3\n",
            "15        60  '2020/12/15'     98       123     275.0\n",
            "16        60  '2020/12/16'     98       120     215.2\n",
            "17        60  '2020/12/17'    100       120     300.0\n",
            "18        45  '2020/12/18'     90       112       NaN\n",
            "19        60  '2020/12/19'    103       123     323.0\n",
            "20        45  '2020/12/20'     97       125     243.0\n",
            "21        60  '2020/12/21'    108       131     364.2\n",
            "22        45           NaN    100       119     282.0\n",
            "23        60  '2020/12/23'    130       101     300.0\n",
            "24        45  '2020/12/24'    105       132     246.0\n",
            "25        60  '2020/12/25'    102       126     334.5\n",
            "26        60      20201226    100       120     250.0\n",
            "27        60  '2020/12/27'     92       118     241.0\n",
            "28        60  '2020/12/28'    103       132       NaN\n",
            "29        60  '2020/12/29'    100       132     280.0\n",
            "30        60  '2020/12/30'    102       129     380.3\n",
            "31        60  '2020/12/31'     92       115     243.0\n"
          ]
        }
      ]
    },
    {
      "cell_type": "code",
      "source": [
        "#Hàm isnull() sẽ trả về giá trị True nếu trong cột có tồn tại giá trị NaN\n",
        "df.isnull().any()"
      ],
      "metadata": {
        "colab": {
          "base_uri": "https://localhost:8080/"
        },
        "id": "3YWJ5ApxiCkW",
        "outputId": "6433585c-74e2-47ab-dfeb-4503090547b1"
      },
      "execution_count": null,
      "outputs": [
        {
          "output_type": "execute_result",
          "data": {
            "text/plain": [
              "Duration    False\n",
              "Date         True\n",
              "Pulse       False\n",
              "Maxpulse    False\n",
              "Calories     True\n",
              "dtype: bool"
            ]
          },
          "metadata": {},
          "execution_count": 77
        }
      ]
    },
    {
      "cell_type": "code",
      "source": [
        "#Hàm dropna() sẽ tạo ra 1 dataframe khác không bao gồm các hàng chứa giá trị NaN\n",
        "new_df = df.dropna()\n",
        "print(new_df)"
      ],
      "metadata": {
        "colab": {
          "base_uri": "https://localhost:8080/"
        },
        "id": "E7zhNAKeSf5E",
        "outputId": "7c80b381-ce5e-44bf-c4bc-4d4a89d74222"
      },
      "execution_count": null,
      "outputs": [
        {
          "output_type": "stream",
          "name": "stdout",
          "text": [
            "    Duration          Date  Pulse  Maxpulse  Calories\n",
            "0         60  '2020/12/01'    110       130     409.1\n",
            "1         60  '2020/12/02'    117       145     479.0\n",
            "2         60  '2020/12/03'    103       135     340.0\n",
            "3         45  '2020/12/04'    109       175     282.4\n",
            "4         45  '2020/12/05'    117       148     406.0\n",
            "5         60  '2020/12/06'    102       127     300.0\n",
            "6         60  '2020/12/07'    110       136     374.0\n",
            "7        450  '2020/12/08'    104       134     253.3\n",
            "8         30  '2020/12/09'    109       133     195.1\n",
            "9         60  '2020/12/10'     98       124     269.0\n",
            "10        60  '2020/12/11'    103       147     329.3\n",
            "11        60  '2020/12/12'    100       120     250.7\n",
            "12        60  '2020/12/12'    100       120     250.7\n",
            "13        60  '2020/12/13'    106       128     345.3\n",
            "14        60  '2020/12/14'    104       132     379.3\n",
            "15        60  '2020/12/15'     98       123     275.0\n",
            "16        60  '2020/12/16'     98       120     215.2\n",
            "17        60  '2020/12/17'    100       120     300.0\n",
            "19        60  '2020/12/19'    103       123     323.0\n",
            "20        45  '2020/12/20'     97       125     243.0\n",
            "21        60  '2020/12/21'    108       131     364.2\n",
            "23        60  '2020/12/23'    130       101     300.0\n",
            "24        45  '2020/12/24'    105       132     246.0\n",
            "25        60  '2020/12/25'    102       126     334.5\n",
            "26        60      20201226    100       120     250.0\n",
            "27        60  '2020/12/27'     92       118     241.0\n",
            "29        60  '2020/12/29'    100       132     280.0\n",
            "30        60  '2020/12/30'    102       129     380.3\n",
            "31        60  '2020/12/31'     92       115     243.0\n"
          ]
        }
      ]
    },
    {
      "cell_type": "code",
      "source": [
        "#df.dropna(inplace = True) sẽ xóa trực tiếp các dòng có giá trị NaN\n",
        "df = pd.read_csv('data_with_empty_cells.csv')\n",
        "df.dropna(inplace = True)\n",
        "print(df)"
      ],
      "metadata": {
        "colab": {
          "base_uri": "https://localhost:8080/"
        },
        "id": "Lg3po3G0T6hG",
        "outputId": "02f652c8-b072-47f3-f3c9-2ade49047a30"
      },
      "execution_count": null,
      "outputs": [
        {
          "output_type": "stream",
          "name": "stdout",
          "text": [
            "    Duration          Date  Pulse  Maxpulse  Calories\n",
            "0         60  '2020/12/01'    110       130     409.1\n",
            "1         60  '2020/12/02'    117       145     479.0\n",
            "2         60  '2020/12/03'    103       135     340.0\n",
            "3         45  '2020/12/04'    109       175     282.4\n",
            "4         45  '2020/12/05'    117       148     406.0\n",
            "5         60  '2020/12/06'    102       127     300.0\n",
            "6         60  '2020/12/07'    110       136     374.0\n",
            "7        450  '2020/12/08'    104       134     253.3\n",
            "8         30  '2020/12/09'    109       133     195.1\n",
            "9         60  '2020/12/10'     98       124     269.0\n",
            "10        60  '2020/12/11'    103       147     329.3\n",
            "11        60  '2020/12/12'    100       120     250.7\n",
            "12        60  '2020/12/12'    100       120     250.7\n",
            "13        60  '2020/12/13'    106       128     345.3\n",
            "14        60  '2020/12/14'    104       132     379.3\n",
            "15        60  '2020/12/15'     98       123     275.0\n",
            "16        60  '2020/12/16'     98       120     215.2\n",
            "17        60  '2020/12/17'    100       120     300.0\n",
            "19        60  '2020/12/19'    103       123     323.0\n",
            "20        45  '2020/12/20'     97       125     243.0\n",
            "21        60  '2020/12/21'    108       131     364.2\n",
            "23        60  '2020/12/23'    130       101     300.0\n",
            "24        45  '2020/12/24'    105       132     246.0\n",
            "25        60  '2020/12/25'    102       126     334.5\n",
            "26        60      20201226    100       120     250.0\n",
            "27        60  '2020/12/27'     92       118     241.0\n",
            "29        60  '2020/12/29'    100       132     280.0\n",
            "30        60  '2020/12/30'    102       129     380.3\n",
            "31        60  '2020/12/31'     92       115     243.0\n"
          ]
        }
      ]
    },
    {
      "cell_type": "code",
      "source": [
        "#Chuyển giá trị 1 cột về dạng numpy array\n",
        "df = pd.read_csv('computer.csv')\n",
        "df['Age'].values"
      ],
      "metadata": {
        "colab": {
          "base_uri": "https://localhost:8080/"
        },
        "id": "p7NVLbl6bHWG",
        "outputId": "397a2221-6fe4-47ae-bace-3d6c02e08c17"
      },
      "execution_count": null,
      "outputs": [
        {
          "output_type": "execute_result",
          "data": {
            "text/plain": [
              "array(['30<=', '30<=', '31..40', '40>', '40>', '40>', '31..40', '30<=',\n",
              "       '30<=', '40>', '30<=', '31..40', '31..40', '40>'], dtype=object)"
            ]
          },
          "metadata": {},
          "execution_count": 55
        }
      ]
    },
    {
      "cell_type": "markdown",
      "source": [
        "###Định dạng (Format)"
      ],
      "metadata": {
        "id": "DByspJSsVS68"
      }
    },
    {
      "cell_type": "code",
      "source": [
        "#Hàm dropna(inplace = true) đã sử dụng ở phần xử lý giá trị trước\n",
        "df = pd.read_csv('data_with_empty_cells.csv')\n",
        "df.dropna(inplace = True)\n",
        "print(df)\n",
        "#Ở dòng index 26 giá trị Date bị sai format"
      ],
      "metadata": {
        "colab": {
          "base_uri": "https://localhost:8080/"
        },
        "id": "ZpDPOKcoVVce",
        "outputId": "869a30fe-99fa-449f-eca5-f270eda2323b"
      },
      "execution_count": null,
      "outputs": [
        {
          "output_type": "stream",
          "name": "stdout",
          "text": [
            "    Duration          Date  Pulse  Maxpulse  Calories\n",
            "0         60  '2020/12/01'    110       130     409.1\n",
            "1         60  '2020/12/02'    117       145     479.0\n",
            "2         60  '2020/12/03'    103       135     340.0\n",
            "3         45  '2020/12/04'    109       175     282.4\n",
            "4         45  '2020/12/05'    117       148     406.0\n",
            "5         60  '2020/12/06'    102       127     300.0\n",
            "6         60  '2020/12/07'    110       136     374.0\n",
            "7        450  '2020/12/08'    104       134     253.3\n",
            "8         30  '2020/12/09'    109       133     195.1\n",
            "9         60  '2020/12/10'     98       124     269.0\n",
            "10        60  '2020/12/11'    103       147     329.3\n",
            "11        60  '2020/12/12'    100       120     250.7\n",
            "12        60  '2020/12/12'    100       120     250.7\n",
            "13        60  '2020/12/13'    106       128     345.3\n",
            "14        60  '2020/12/14'    104       132     379.3\n",
            "15        60  '2020/12/15'     98       123     275.0\n",
            "16        60  '2020/12/16'     98       120     215.2\n",
            "17        60  '2020/12/17'    100       120     300.0\n",
            "19        60  '2020/12/19'    103       123     323.0\n",
            "20        45  '2020/12/20'     97       125     243.0\n",
            "21        60  '2020/12/21'    108       131     364.2\n",
            "23        60  '2020/12/23'    130       101     300.0\n",
            "24        45  '2020/12/24'    105       132     246.0\n",
            "25        60  '2020/12/25'    102       126     334.5\n",
            "26        60      20201226    100       120     250.0\n",
            "27        60  '2020/12/27'     92       118     241.0\n",
            "29        60  '2020/12/29'    100       132     280.0\n",
            "30        60  '2020/12/30'    102       129     380.3\n",
            "31        60  '2020/12/31'     92       115     243.0\n"
          ]
        }
      ]
    },
    {
      "cell_type": "code",
      "source": [
        "#Hàm to_datetime(row) được sử dụng để chỉnh lại đúng định dạng ngày giờ trong dataframe\n",
        "df['Date'] = pd.to_datetime(df['Date'])\n",
        "print(df)"
      ],
      "metadata": {
        "colab": {
          "base_uri": "https://localhost:8080/"
        },
        "id": "nq870a9MWBwV",
        "outputId": "d85baae0-9c38-4162-a882-4074edf2a384"
      },
      "execution_count": null,
      "outputs": [
        {
          "output_type": "stream",
          "name": "stdout",
          "text": [
            "    Duration       Date  Pulse  Maxpulse  Calories\n",
            "0         60 2020-12-01    110       130     409.1\n",
            "1         60 2020-12-02    117       145     479.0\n",
            "2         60 2020-12-03    103       135     340.0\n",
            "3         45 2020-12-04    109       175     282.4\n",
            "4         45 2020-12-05    117       148     406.0\n",
            "5         60 2020-12-06    102       127     300.0\n",
            "6         60 2020-12-07    110       136     374.0\n",
            "7        450 2020-12-08    104       134     253.3\n",
            "8         30 2020-12-09    109       133     195.1\n",
            "9         60 2020-12-10     98       124     269.0\n",
            "10        60 2020-12-11    103       147     329.3\n",
            "11        60 2020-12-12    100       120     250.7\n",
            "12        60 2020-12-12    100       120     250.7\n",
            "13        60 2020-12-13    106       128     345.3\n",
            "14        60 2020-12-14    104       132     379.3\n",
            "15        60 2020-12-15     98       123     275.0\n",
            "16        60 2020-12-16     98       120     215.2\n",
            "17        60 2020-12-17    100       120     300.0\n",
            "19        60 2020-12-19    103       123     323.0\n",
            "20        45 2020-12-20     97       125     243.0\n",
            "21        60 2020-12-21    108       131     364.2\n",
            "23        60 2020-12-23    130       101     300.0\n",
            "24        45 2020-12-24    105       132     246.0\n",
            "25        60 2020-12-25    102       126     334.5\n",
            "26        60 2020-12-26    100       120     250.0\n",
            "27        60 2020-12-27     92       118     241.0\n",
            "29        60 2020-12-29    100       132     280.0\n",
            "30        60 2020-12-30    102       129     380.3\n",
            "31        60 2020-12-31     92       115     243.0\n"
          ]
        }
      ]
    },
    {
      "cell_type": "markdown",
      "source": [
        "###Trùng lặp (Duplicate)"
      ],
      "metadata": {
        "id": "wTx5R-jWWo90"
      }
    },
    {
      "cell_type": "code",
      "source": [
        "#Hàm dropna(inplace = true) đã sử dụng ở phần xử lý giá trị trước\n",
        "df = pd.read_csv('data_with_empty_cells.csv')\n",
        "df.dropna(inplace = True)\n",
        "print(df)\n",
        "#Ở dòng index 11 12 có giá trị hoàn toàn giống nhau"
      ],
      "metadata": {
        "colab": {
          "base_uri": "https://localhost:8080/"
        },
        "id": "JqbTNA58WsSU",
        "outputId": "dd9736f8-da56-4e04-a0ff-54b6f80214f9"
      },
      "execution_count": null,
      "outputs": [
        {
          "output_type": "stream",
          "name": "stdout",
          "text": [
            "    Duration          Date  Pulse  Maxpulse  Calories\n",
            "0         60  '2020/12/01'    110       130     409.1\n",
            "1         60  '2020/12/02'    117       145     479.0\n",
            "2         60  '2020/12/03'    103       135     340.0\n",
            "3         45  '2020/12/04'    109       175     282.4\n",
            "4         45  '2020/12/05'    117       148     406.0\n",
            "5         60  '2020/12/06'    102       127     300.0\n",
            "6         60  '2020/12/07'    110       136     374.0\n",
            "7        450  '2020/12/08'    104       134     253.3\n",
            "8         30  '2020/12/09'    109       133     195.1\n",
            "9         60  '2020/12/10'     98       124     269.0\n",
            "10        60  '2020/12/11'    103       147     329.3\n",
            "11        60  '2020/12/12'    100       120     250.7\n",
            "12        60  '2020/12/12'    100       120     250.7\n",
            "13        60  '2020/12/13'    106       128     345.3\n",
            "14        60  '2020/12/14'    104       132     379.3\n",
            "15        60  '2020/12/15'     98       123     275.0\n",
            "16        60  '2020/12/16'     98       120     215.2\n",
            "17        60  '2020/12/17'    100       120     300.0\n",
            "19        60  '2020/12/19'    103       123     323.0\n",
            "20        45  '2020/12/20'     97       125     243.0\n",
            "21        60  '2020/12/21'    108       131     364.2\n",
            "23        60  '2020/12/23'    130       101     300.0\n",
            "24        45  '2020/12/24'    105       132     246.0\n",
            "25        60  '2020/12/25'    102       126     334.5\n",
            "26        60      20201226    100       120     250.0\n",
            "27        60  '2020/12/27'     92       118     241.0\n",
            "29        60  '2020/12/29'    100       132     280.0\n",
            "30        60  '2020/12/30'    102       129     380.3\n",
            "31        60  '2020/12/31'     92       115     243.0\n"
          ]
        }
      ]
    },
    {
      "cell_type": "code",
      "source": [
        "#Hàm duplicated() được dùng để xem giá trị ở các dòng có trùng lặp nhau hay không, nếu một dòng xuất hiện sau có giá trị trùng lặp với dòng đã có trước đó thì giá trị trả về của hàng Duplicated() True\n",
        "print(df.duplicated())"
      ],
      "metadata": {
        "colab": {
          "base_uri": "https://localhost:8080/"
        },
        "id": "PdJIoKanW3k2",
        "outputId": "3a402f36-cb65-4dab-af6b-f4657e734588"
      },
      "execution_count": null,
      "outputs": [
        {
          "output_type": "stream",
          "name": "stdout",
          "text": [
            "0     False\n",
            "1     False\n",
            "2     False\n",
            "3     False\n",
            "4     False\n",
            "5     False\n",
            "6     False\n",
            "7     False\n",
            "8     False\n",
            "9     False\n",
            "10    False\n",
            "11    False\n",
            "12     True\n",
            "13    False\n",
            "14    False\n",
            "15    False\n",
            "16    False\n",
            "17    False\n",
            "19    False\n",
            "20    False\n",
            "21    False\n",
            "23    False\n",
            "24    False\n",
            "25    False\n",
            "26    False\n",
            "27    False\n",
            "29    False\n",
            "30    False\n",
            "31    False\n",
            "dtype: bool\n"
          ]
        }
      ]
    },
    {
      "cell_type": "code",
      "source": [
        "#Hàm drop_duplicates() có tác dụng loại bỏ dòng trùng lặp (dòng có giá trị True trả về của hàm Duplicated())\n",
        "df.drop_duplicates(inplace = True)\n",
        "print(df)"
      ],
      "metadata": {
        "colab": {
          "base_uri": "https://localhost:8080/"
        },
        "id": "AJ9MMMnnXZsV",
        "outputId": "12bc6b55-caec-4a3c-d4fc-fdf4e029b797"
      },
      "execution_count": null,
      "outputs": [
        {
          "output_type": "stream",
          "name": "stdout",
          "text": [
            "    Duration          Date  Pulse  Maxpulse  Calories\n",
            "0         60  '2020/12/01'    110       130     409.1\n",
            "1         60  '2020/12/02'    117       145     479.0\n",
            "2         60  '2020/12/03'    103       135     340.0\n",
            "3         45  '2020/12/04'    109       175     282.4\n",
            "4         45  '2020/12/05'    117       148     406.0\n",
            "5         60  '2020/12/06'    102       127     300.0\n",
            "6         60  '2020/12/07'    110       136     374.0\n",
            "7        450  '2020/12/08'    104       134     253.3\n",
            "8         30  '2020/12/09'    109       133     195.1\n",
            "9         60  '2020/12/10'     98       124     269.0\n",
            "10        60  '2020/12/11'    103       147     329.3\n",
            "11        60  '2020/12/12'    100       120     250.7\n",
            "13        60  '2020/12/13'    106       128     345.3\n",
            "14        60  '2020/12/14'    104       132     379.3\n",
            "15        60  '2020/12/15'     98       123     275.0\n",
            "16        60  '2020/12/16'     98       120     215.2\n",
            "17        60  '2020/12/17'    100       120     300.0\n",
            "19        60  '2020/12/19'    103       123     323.0\n",
            "20        45  '2020/12/20'     97       125     243.0\n",
            "21        60  '2020/12/21'    108       131     364.2\n",
            "23        60  '2020/12/23'    130       101     300.0\n",
            "24        45  '2020/12/24'    105       132     246.0\n",
            "25        60  '2020/12/25'    102       126     334.5\n",
            "26        60      20201226    100       120     250.0\n",
            "27        60  '2020/12/27'     92       118     241.0\n",
            "29        60  '2020/12/29'    100       132     280.0\n",
            "30        60  '2020/12/30'    102       129     380.3\n",
            "31        60  '2020/12/31'     92       115     243.0\n"
          ]
        }
      ]
    },
    {
      "cell_type": "markdown",
      "source": [
        "##Sắp xếp (Sort)"
      ],
      "metadata": {
        "id": "OF4S_6nfeBDs"
      }
    },
    {
      "cell_type": "code",
      "source": [
        "#Trước khi sắp xếp\n",
        "df = pd.read_csv('data_with_empty_cells.csv')\n",
        "print('Before sort\\n', df)"
      ],
      "metadata": {
        "colab": {
          "base_uri": "https://localhost:8080/"
        },
        "id": "vsuCsmm0eEUY",
        "outputId": "68df27b5-5392-46e6-874c-9823e97d5704"
      },
      "execution_count": null,
      "outputs": [
        {
          "output_type": "stream",
          "name": "stdout",
          "text": [
            "Before sort\n",
            "     Duration          Date  Pulse  Maxpulse  Calories\n",
            "0         60  '2020/12/01'    110       130     409.1\n",
            "1         60  '2020/12/02'    117       145     479.0\n",
            "2         60  '2020/12/03'    103       135     340.0\n",
            "3         45  '2020/12/04'    109       175     282.4\n",
            "4         45  '2020/12/05'    117       148     406.0\n",
            "5         60  '2020/12/06'    102       127     300.0\n",
            "6         60  '2020/12/07'    110       136     374.0\n",
            "7        450  '2020/12/08'    104       134     253.3\n",
            "8         30  '2020/12/09'    109       133     195.1\n",
            "9         60  '2020/12/10'     98       124     269.0\n",
            "10        60  '2020/12/11'    103       147     329.3\n",
            "11        60  '2020/12/12'    100       120     250.7\n",
            "12        60  '2020/12/12'    100       120     250.7\n",
            "13        60  '2020/12/13'    106       128     345.3\n",
            "14        60  '2020/12/14'    104       132     379.3\n",
            "15        60  '2020/12/15'     98       123     275.0\n",
            "16        60  '2020/12/16'     98       120     215.2\n",
            "17        60  '2020/12/17'    100       120     300.0\n",
            "18        45  '2020/12/18'     90       112       NaN\n",
            "19        60  '2020/12/19'    103       123     323.0\n",
            "20        45  '2020/12/20'     97       125     243.0\n",
            "21        60  '2020/12/21'    108       131     364.2\n",
            "22        45           NaN    100       119     282.0\n",
            "23        60  '2020/12/23'    130       101     300.0\n",
            "24        45  '2020/12/24'    105       132     246.0\n",
            "25        60  '2020/12/25'    102       126     334.5\n",
            "26        60      20201226    100       120     250.0\n",
            "27        60  '2020/12/27'     92       118     241.0\n",
            "28        60  '2020/12/28'    103       132       NaN\n",
            "29        60  '2020/12/29'    100       132     280.0\n",
            "30        60  '2020/12/30'    102       129     380.3\n",
            "31        60  '2020/12/31'     92       115     243.0\n"
          ]
        }
      ]
    },
    {
      "cell_type": "code",
      "source": [
        "#Sau khi sắp xếp\n",
        "#Sắp xếp theo Pulse tăng dần\n",
        "df = df.sort_values('Pulse', ascending=True)\n",
        "print('After sort\\n', df)"
      ],
      "metadata": {
        "colab": {
          "base_uri": "https://localhost:8080/"
        },
        "id": "XhML2wwIefRF",
        "outputId": "5b955098-3681-4b39-88c8-d3e061d66450"
      },
      "execution_count": null,
      "outputs": [
        {
          "output_type": "stream",
          "name": "stdout",
          "text": [
            "After sort\n",
            "     Duration          Date  Pulse  Maxpulse  Calories\n",
            "18        45  '2020/12/18'     90       112       NaN\n",
            "31        60  '2020/12/31'     92       115     243.0\n",
            "27        60  '2020/12/27'     92       118     241.0\n",
            "20        45  '2020/12/20'     97       125     243.0\n",
            "16        60  '2020/12/16'     98       120     215.2\n",
            "9         60  '2020/12/10'     98       124     269.0\n",
            "15        60  '2020/12/15'     98       123     275.0\n",
            "29        60  '2020/12/29'    100       132     280.0\n",
            "11        60  '2020/12/12'    100       120     250.7\n",
            "12        60  '2020/12/12'    100       120     250.7\n",
            "26        60      20201226    100       120     250.0\n",
            "17        60  '2020/12/17'    100       120     300.0\n",
            "22        45           NaN    100       119     282.0\n",
            "5         60  '2020/12/06'    102       127     300.0\n",
            "30        60  '2020/12/30'    102       129     380.3\n",
            "25        60  '2020/12/25'    102       126     334.5\n",
            "19        60  '2020/12/19'    103       123     323.0\n",
            "10        60  '2020/12/11'    103       147     329.3\n",
            "28        60  '2020/12/28'    103       132       NaN\n",
            "2         60  '2020/12/03'    103       135     340.0\n",
            "7        450  '2020/12/08'    104       134     253.3\n",
            "14        60  '2020/12/14'    104       132     379.3\n",
            "24        45  '2020/12/24'    105       132     246.0\n",
            "13        60  '2020/12/13'    106       128     345.3\n",
            "21        60  '2020/12/21'    108       131     364.2\n",
            "3         45  '2020/12/04'    109       175     282.4\n",
            "8         30  '2020/12/09'    109       133     195.1\n",
            "6         60  '2020/12/07'    110       136     374.0\n",
            "0         60  '2020/12/01'    110       130     409.1\n",
            "4         45  '2020/12/05'    117       148     406.0\n",
            "1         60  '2020/12/02'    117       145     479.0\n",
            "23        60  '2020/12/23'    130       101     300.0\n"
          ]
        }
      ]
    },
    {
      "cell_type": "markdown",
      "source": [
        "##Lưu dataframe ra file (Write data to file)"
      ],
      "metadata": {
        "id": "J9-85NxRfhZE"
      }
    },
    {
      "cell_type": "code",
      "source": [
        "#Đọc data\n",
        "df = pd.read_csv('data_with_empty_cells.csv')\n",
        "#Sắp xếp\n",
        "df = df.sort_values('Pulse', ascending=True)\n",
        "#Lưu ra file bẳng  to_csv\n",
        "df.to_csv('new_data.csv')"
      ],
      "metadata": {
        "id": "O0s0QMr6fsDf"
      },
      "execution_count": null,
      "outputs": []
    },
    {
      "cell_type": "code",
      "source": [
        "#Đọc data mới được lưu\n",
        "df = pd.read_csv('new_data.csv')\n",
        "print(df)"
      ],
      "metadata": {
        "colab": {
          "base_uri": "https://localhost:8080/"
        },
        "id": "CWedG-mqgAue",
        "outputId": "3c6d3537-64a5-449a-b6e2-4013fbe047b0"
      },
      "execution_count": null,
      "outputs": [
        {
          "output_type": "stream",
          "name": "stdout",
          "text": [
            "    Unnamed: 0  Duration          Date  Pulse  Maxpulse  Calories\n",
            "0           18        45  '2020/12/18'     90       112       NaN\n",
            "1           31        60  '2020/12/31'     92       115     243.0\n",
            "2           27        60  '2020/12/27'     92       118     241.0\n",
            "3           20        45  '2020/12/20'     97       125     243.0\n",
            "4           16        60  '2020/12/16'     98       120     215.2\n",
            "5            9        60  '2020/12/10'     98       124     269.0\n",
            "6           15        60  '2020/12/15'     98       123     275.0\n",
            "7           29        60  '2020/12/29'    100       132     280.0\n",
            "8           11        60  '2020/12/12'    100       120     250.7\n",
            "9           12        60  '2020/12/12'    100       120     250.7\n",
            "10          26        60      20201226    100       120     250.0\n",
            "11          17        60  '2020/12/17'    100       120     300.0\n",
            "12          22        45           NaN    100       119     282.0\n",
            "13           5        60  '2020/12/06'    102       127     300.0\n",
            "14          30        60  '2020/12/30'    102       129     380.3\n",
            "15          25        60  '2020/12/25'    102       126     334.5\n",
            "16          19        60  '2020/12/19'    103       123     323.0\n",
            "17          10        60  '2020/12/11'    103       147     329.3\n",
            "18          28        60  '2020/12/28'    103       132       NaN\n",
            "19           2        60  '2020/12/03'    103       135     340.0\n",
            "20           7       450  '2020/12/08'    104       134     253.3\n",
            "21          14        60  '2020/12/14'    104       132     379.3\n",
            "22          24        45  '2020/12/24'    105       132     246.0\n",
            "23          13        60  '2020/12/13'    106       128     345.3\n",
            "24          21        60  '2020/12/21'    108       131     364.2\n",
            "25           3        45  '2020/12/04'    109       175     282.4\n",
            "26           8        30  '2020/12/09'    109       133     195.1\n",
            "27           6        60  '2020/12/07'    110       136     374.0\n",
            "28           0        60  '2020/12/01'    110       130     409.1\n",
            "29           4        45  '2020/12/05'    117       148     406.0\n",
            "30           1        60  '2020/12/02'    117       145     479.0\n",
            "31          23        60  '2020/12/23'    130       101     300.0\n"
          ]
        }
      ]
    },
    {
      "cell_type": "markdown",
      "source": [
        "#Tài liệu tham khảo"
      ],
      "metadata": {
        "id": "ACFSSyXagRan"
      }
    },
    {
      "cell_type": "markdown",
      "source": [
        "https://www.w3schools.com/python/pandas/default.asp\n",
        "\n",
        "https://nguyenvanhieu.vn/thu-vien-pandas-python/#doc-csv-file-vao-dataframe\n",
        "\n",
        "https://pandas.pydata.org/docs/pandas.pdf"
      ],
      "metadata": {
        "id": "JOIlL32lgTTO"
      }
    }
  ]
}